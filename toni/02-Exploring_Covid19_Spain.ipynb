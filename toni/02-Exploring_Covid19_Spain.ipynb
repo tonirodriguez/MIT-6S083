{
 "cells": [
  {
   "cell_type": "markdown",
   "metadata": {},
   "source": [
    "# Covid-19 in Spain"
   ]
  },
  {
   "cell_type": "code",
   "execution_count": 1,
   "metadata": {},
   "outputs": [],
   "source": [
    "using DataFrames, DataFramesMeta, CSV, Plots, Dates"
   ]
  },
  {
   "cell_type": "code",
   "execution_count": 2,
   "metadata": {},
   "outputs": [
    {
     "data": {
      "text/plain": [
       "\"https://raw.githubusercontent.com/CSSEGISandData/COVID-19/master/csse_covid_19_data/csse_covid_19_daily_reports/01-11-2021.csv\""
      ]
     },
     "execution_count": 2,
     "metadata": {},
     "output_type": "execute_result"
    }
   ],
   "source": [
    "#url = \"../COVID-19/csse_covid_19_data/csse_covid_19_daily_reports/01-11-2021.csv\";\n",
    "url = \"https://raw.githubusercontent.com/CSSEGISandData/COVID-19/master/csse_covid_19_data/csse_covid_19_daily_reports/01-11-2021.csv\""
   ]
  },
  {
   "cell_type": "code",
   "execution_count": 3,
   "metadata": {},
   "outputs": [],
   "source": [
    "df = CSV.read(download(url), DataFrame);"
   ]
  },
  {
   "cell_type": "code",
   "execution_count": 4,
   "metadata": {},
   "outputs": [],
   "source": [
    "rename!(df, 3 => \"province\", 4 => \"country\");"
   ]
  },
  {
   "cell_type": "code",
   "execution_count": 5,
   "metadata": {},
   "outputs": [
    {
     "data": {
      "text/html": [
       "<div class=\"data-frame\"><p>12 rows × 14 columns (omitted printing of 8 columns)</p><table class=\"data-frame\"><thead><tr><th></th><th>FIPS</th><th>Admin2</th><th>province</th><th>country</th><th>Last_Update</th><th>Lat</th></tr><tr><th></th><th title=\"Union{Missing, Int64}\">Int64?</th><th title=\"Union{Missing, String}\">String?</th><th title=\"Union{Missing, String}\">String?</th><th title=\"String\">String</th><th title=\"String31\">String31</th><th title=\"Union{Missing, Float64}\">Float64?</th></tr></thead><tbody><tr><th>1</th><td><em>missing</em></td><td><em>missing</em></td><td>French Guiana</td><td>France</td><td>2021-01-12 05:22:15</td><td>4.0</td></tr><tr><th>2</th><td><em>missing</em></td><td><em>missing</em></td><td>French Polynesia</td><td>France</td><td>2021-01-12 05:22:15</td><td>-17.6797</td></tr><tr><th>3</th><td><em>missing</em></td><td><em>missing</em></td><td>Guadeloupe</td><td>France</td><td>2021-01-12 05:22:15</td><td>16.265</td></tr><tr><th>4</th><td><em>missing</em></td><td><em>missing</em></td><td>Martinique</td><td>France</td><td>2021-01-12 05:22:15</td><td>14.6415</td></tr><tr><th>5</th><td><em>missing</em></td><td><em>missing</em></td><td>Mayotte</td><td>France</td><td>2021-01-12 05:22:15</td><td>-12.8275</td></tr><tr><th>6</th><td><em>missing</em></td><td><em>missing</em></td><td>New Caledonia</td><td>France</td><td>2021-01-12 05:22:15</td><td>-20.9043</td></tr><tr><th>7</th><td><em>missing</em></td><td><em>missing</em></td><td>Reunion</td><td>France</td><td>2021-01-12 05:22:15</td><td>-21.1151</td></tr><tr><th>8</th><td><em>missing</em></td><td><em>missing</em></td><td>Saint Barthelemy</td><td>France</td><td>2021-01-12 05:22:15</td><td>17.9</td></tr><tr><th>9</th><td><em>missing</em></td><td><em>missing</em></td><td>Saint Pierre and Miquelon</td><td>France</td><td>2021-01-12 05:22:15</td><td>46.8852</td></tr><tr><th>10</th><td><em>missing</em></td><td><em>missing</em></td><td>St Martin</td><td>France</td><td>2021-01-12 05:22:15</td><td>18.0708</td></tr><tr><th>11</th><td><em>missing</em></td><td><em>missing</em></td><td>Wallis and Futuna</td><td>France</td><td>2021-01-12 05:22:15</td><td>-14.2938</td></tr><tr><th>12</th><td><em>missing</em></td><td><em>missing</em></td><td><em>missing</em></td><td>France</td><td>2021-01-12 05:22:15</td><td>46.2276</td></tr></tbody></table></div>"
      ],
      "text/latex": [
       "\\begin{tabular}{r|ccccccc}\n",
       "\t& FIPS & Admin2 & province & country & Last\\_Update & Lat & \\\\\n",
       "\t\\hline\n",
       "\t& Int64? & String? & String? & String & String31 & Float64? & \\\\\n",
       "\t\\hline\n",
       "\t1 & \\emph{missing} & \\emph{missing} & French Guiana & France & 2021-01-12 05:22:15 & 4.0 & $\\dots$ \\\\\n",
       "\t2 & \\emph{missing} & \\emph{missing} & French Polynesia & France & 2021-01-12 05:22:15 & -17.6797 & $\\dots$ \\\\\n",
       "\t3 & \\emph{missing} & \\emph{missing} & Guadeloupe & France & 2021-01-12 05:22:15 & 16.265 & $\\dots$ \\\\\n",
       "\t4 & \\emph{missing} & \\emph{missing} & Martinique & France & 2021-01-12 05:22:15 & 14.6415 & $\\dots$ \\\\\n",
       "\t5 & \\emph{missing} & \\emph{missing} & Mayotte & France & 2021-01-12 05:22:15 & -12.8275 & $\\dots$ \\\\\n",
       "\t6 & \\emph{missing} & \\emph{missing} & New Caledonia & France & 2021-01-12 05:22:15 & -20.9043 & $\\dots$ \\\\\n",
       "\t7 & \\emph{missing} & \\emph{missing} & Reunion & France & 2021-01-12 05:22:15 & -21.1151 & $\\dots$ \\\\\n",
       "\t8 & \\emph{missing} & \\emph{missing} & Saint Barthelemy & France & 2021-01-12 05:22:15 & 17.9 & $\\dots$ \\\\\n",
       "\t9 & \\emph{missing} & \\emph{missing} & Saint Pierre and Miquelon & France & 2021-01-12 05:22:15 & 46.8852 & $\\dots$ \\\\\n",
       "\t10 & \\emph{missing} & \\emph{missing} & St Martin & France & 2021-01-12 05:22:15 & 18.0708 & $\\dots$ \\\\\n",
       "\t11 & \\emph{missing} & \\emph{missing} & Wallis and Futuna & France & 2021-01-12 05:22:15 & -14.2938 & $\\dots$ \\\\\n",
       "\t12 & \\emph{missing} & \\emph{missing} & \\emph{missing} & France & 2021-01-12 05:22:15 & 46.2276 & $\\dots$ \\\\\n",
       "\\end{tabular}\n"
      ],
      "text/plain": [
       "\u001b[1m12×14 DataFrame\u001b[0m\n",
       "\u001b[1m Row \u001b[0m│\u001b[1m FIPS    \u001b[0m\u001b[1m Admin2  \u001b[0m\u001b[1m province                  \u001b[0m\u001b[1m country \u001b[0m\u001b[1m Last_Update      \u001b[0m ⋯\n",
       "\u001b[1m     \u001b[0m│\u001b[90m Int64?  \u001b[0m\u001b[90m String? \u001b[0m\u001b[90m String?                   \u001b[0m\u001b[90m String  \u001b[0m\u001b[90m String31         \u001b[0m ⋯\n",
       "─────┼──────────────────────────────────────────────────────────────────────────\n",
       "   1 │\u001b[90m missing \u001b[0m\u001b[90m missing \u001b[0m French Guiana              France   2021-01-12 05:22: ⋯\n",
       "   2 │\u001b[90m missing \u001b[0m\u001b[90m missing \u001b[0m French Polynesia           France   2021-01-12 05:22:\n",
       "   3 │\u001b[90m missing \u001b[0m\u001b[90m missing \u001b[0m Guadeloupe                 France   2021-01-12 05:22:\n",
       "   4 │\u001b[90m missing \u001b[0m\u001b[90m missing \u001b[0m Martinique                 France   2021-01-12 05:22:\n",
       "   5 │\u001b[90m missing \u001b[0m\u001b[90m missing \u001b[0m Mayotte                    France   2021-01-12 05:22: ⋯\n",
       "   6 │\u001b[90m missing \u001b[0m\u001b[90m missing \u001b[0m New Caledonia              France   2021-01-12 05:22:\n",
       "   7 │\u001b[90m missing \u001b[0m\u001b[90m missing \u001b[0m Reunion                    France   2021-01-12 05:22:\n",
       "   8 │\u001b[90m missing \u001b[0m\u001b[90m missing \u001b[0m Saint Barthelemy           France   2021-01-12 05:22:\n",
       "   9 │\u001b[90m missing \u001b[0m\u001b[90m missing \u001b[0m Saint Pierre and Miquelon  France   2021-01-12 05:22: ⋯\n",
       "  10 │\u001b[90m missing \u001b[0m\u001b[90m missing \u001b[0m St Martin                  France   2021-01-12 05:22:\n",
       "  11 │\u001b[90m missing \u001b[0m\u001b[90m missing \u001b[0m Wallis and Futuna          France   2021-01-12 05:22:\n",
       "  12 │\u001b[90m missing \u001b[0m\u001b[90m missing \u001b[0m\u001b[90m missing                   \u001b[0m France   2021-01-12 05:22:\n",
       "\u001b[36m                                                              10 columns omitted\u001b[0m"
      ]
     },
     "execution_count": 5,
     "metadata": {},
     "output_type": "execute_result"
    }
   ],
   "source": [
    "df_france = df[df.country .== \"France\", :]"
   ]
  },
  {
   "cell_type": "code",
   "execution_count": 6,
   "metadata": {},
   "outputs": [
    {
     "data": {
      "text/html": [
       "<div class=\"data-frame\"><p>20 rows × 15 columns (omitted printing of 9 columns)</p><table class=\"data-frame\"><thead><tr><th></th><th>FIPS</th><th>Admin2</th><th>province</th><th>country</th><th>fecha</th><th>Last_Update</th></tr><tr><th></th><th title=\"Union{Missing, Int64}\">Int64?</th><th title=\"Union{Missing, String}\">String?</th><th title=\"Union{Missing, String}\">String?</th><th title=\"String\">String</th><th title=\"Date\">Date</th><th title=\"String31\">String31</th></tr></thead><tbody><tr><th>1</th><td><em>missing</em></td><td><em>missing</em></td><td>Andalusia</td><td>Spain</td><td>2020-12-31</td><td>2021-01-12 05:22:15</td></tr><tr><th>2</th><td><em>missing</em></td><td><em>missing</em></td><td>Aragon</td><td>Spain</td><td>2020-12-31</td><td>2021-01-12 05:22:15</td></tr><tr><th>3</th><td><em>missing</em></td><td><em>missing</em></td><td>Asturias</td><td>Spain</td><td>2020-12-31</td><td>2021-01-12 05:22:15</td></tr><tr><th>4</th><td><em>missing</em></td><td><em>missing</em></td><td>Baleares</td><td>Spain</td><td>2020-12-31</td><td>2021-01-12 05:22:15</td></tr><tr><th>5</th><td><em>missing</em></td><td><em>missing</em></td><td>C. Valenciana</td><td>Spain</td><td>2020-12-31</td><td>2021-01-12 05:22:15</td></tr><tr><th>6</th><td><em>missing</em></td><td><em>missing</em></td><td>Canarias</td><td>Spain</td><td>2020-12-31</td><td>2021-01-12 05:22:15</td></tr><tr><th>7</th><td><em>missing</em></td><td><em>missing</em></td><td>Cantabria</td><td>Spain</td><td>2020-12-31</td><td>2021-01-12 05:22:15</td></tr><tr><th>8</th><td><em>missing</em></td><td><em>missing</em></td><td>Castilla - La Mancha</td><td>Spain</td><td>2020-12-31</td><td>2021-01-12 05:22:15</td></tr><tr><th>9</th><td><em>missing</em></td><td><em>missing</em></td><td>Castilla y Leon</td><td>Spain</td><td>2020-12-31</td><td>2021-01-12 05:22:15</td></tr><tr><th>10</th><td><em>missing</em></td><td><em>missing</em></td><td>Catalonia</td><td>Spain</td><td>2020-12-31</td><td>2021-01-12 05:22:15</td></tr><tr><th>11</th><td><em>missing</em></td><td><em>missing</em></td><td>Ceuta</td><td>Spain</td><td>2020-12-31</td><td>2021-01-12 05:22:15</td></tr><tr><th>12</th><td><em>missing</em></td><td><em>missing</em></td><td>Extremadura</td><td>Spain</td><td>2020-12-31</td><td>2021-01-12 05:22:15</td></tr><tr><th>13</th><td><em>missing</em></td><td><em>missing</em></td><td>Galicia</td><td>Spain</td><td>2020-12-31</td><td>2021-01-12 05:22:15</td></tr><tr><th>14</th><td><em>missing</em></td><td><em>missing</em></td><td>La Rioja</td><td>Spain</td><td>2020-12-31</td><td>2021-01-12 05:22:15</td></tr><tr><th>15</th><td><em>missing</em></td><td><em>missing</em></td><td>Madrid</td><td>Spain</td><td>2020-12-31</td><td>2021-01-12 05:22:15</td></tr><tr><th>16</th><td><em>missing</em></td><td><em>missing</em></td><td>Melilla</td><td>Spain</td><td>2020-12-31</td><td>2021-01-12 05:22:15</td></tr><tr><th>17</th><td><em>missing</em></td><td><em>missing</em></td><td>Murcia</td><td>Spain</td><td>2020-12-31</td><td>2021-01-12 05:22:15</td></tr><tr><th>18</th><td><em>missing</em></td><td><em>missing</em></td><td>Navarra</td><td>Spain</td><td>2020-12-31</td><td>2021-01-12 05:22:15</td></tr><tr><th>19</th><td><em>missing</em></td><td><em>missing</em></td><td>Pais Vasco</td><td>Spain</td><td>2020-12-31</td><td>2021-01-12 05:22:15</td></tr><tr><th>20</th><td><em>missing</em></td><td><em>missing</em></td><td>Unknown</td><td>Spain</td><td>2020-12-31</td><td>2021-01-12 05:22:15</td></tr></tbody></table></div>"
      ],
      "text/latex": [
       "\\begin{tabular}{r|ccccccc}\n",
       "\t& FIPS & Admin2 & province & country & fecha & Last\\_Update & \\\\\n",
       "\t\\hline\n",
       "\t& Int64? & String? & String? & String & Date & String31 & \\\\\n",
       "\t\\hline\n",
       "\t1 & \\emph{missing} & \\emph{missing} & Andalusia & Spain & 2020-12-31 & 2021-01-12 05:22:15 & $\\dots$ \\\\\n",
       "\t2 & \\emph{missing} & \\emph{missing} & Aragon & Spain & 2020-12-31 & 2021-01-12 05:22:15 & $\\dots$ \\\\\n",
       "\t3 & \\emph{missing} & \\emph{missing} & Asturias & Spain & 2020-12-31 & 2021-01-12 05:22:15 & $\\dots$ \\\\\n",
       "\t4 & \\emph{missing} & \\emph{missing} & Baleares & Spain & 2020-12-31 & 2021-01-12 05:22:15 & $\\dots$ \\\\\n",
       "\t5 & \\emph{missing} & \\emph{missing} & C. Valenciana & Spain & 2020-12-31 & 2021-01-12 05:22:15 & $\\dots$ \\\\\n",
       "\t6 & \\emph{missing} & \\emph{missing} & Canarias & Spain & 2020-12-31 & 2021-01-12 05:22:15 & $\\dots$ \\\\\n",
       "\t7 & \\emph{missing} & \\emph{missing} & Cantabria & Spain & 2020-12-31 & 2021-01-12 05:22:15 & $\\dots$ \\\\\n",
       "\t8 & \\emph{missing} & \\emph{missing} & Castilla - La Mancha & Spain & 2020-12-31 & 2021-01-12 05:22:15 & $\\dots$ \\\\\n",
       "\t9 & \\emph{missing} & \\emph{missing} & Castilla y Leon & Spain & 2020-12-31 & 2021-01-12 05:22:15 & $\\dots$ \\\\\n",
       "\t10 & \\emph{missing} & \\emph{missing} & Catalonia & Spain & 2020-12-31 & 2021-01-12 05:22:15 & $\\dots$ \\\\\n",
       "\t11 & \\emph{missing} & \\emph{missing} & Ceuta & Spain & 2020-12-31 & 2021-01-12 05:22:15 & $\\dots$ \\\\\n",
       "\t12 & \\emph{missing} & \\emph{missing} & Extremadura & Spain & 2020-12-31 & 2021-01-12 05:22:15 & $\\dots$ \\\\\n",
       "\t13 & \\emph{missing} & \\emph{missing} & Galicia & Spain & 2020-12-31 & 2021-01-12 05:22:15 & $\\dots$ \\\\\n",
       "\t14 & \\emph{missing} & \\emph{missing} & La Rioja & Spain & 2020-12-31 & 2021-01-12 05:22:15 & $\\dots$ \\\\\n",
       "\t15 & \\emph{missing} & \\emph{missing} & Madrid & Spain & 2020-12-31 & 2021-01-12 05:22:15 & $\\dots$ \\\\\n",
       "\t16 & \\emph{missing} & \\emph{missing} & Melilla & Spain & 2020-12-31 & 2021-01-12 05:22:15 & $\\dots$ \\\\\n",
       "\t17 & \\emph{missing} & \\emph{missing} & Murcia & Spain & 2020-12-31 & 2021-01-12 05:22:15 & $\\dots$ \\\\\n",
       "\t18 & \\emph{missing} & \\emph{missing} & Navarra & Spain & 2020-12-31 & 2021-01-12 05:22:15 & $\\dots$ \\\\\n",
       "\t19 & \\emph{missing} & \\emph{missing} & Pais Vasco & Spain & 2020-12-31 & 2021-01-12 05:22:15 & $\\dots$ \\\\\n",
       "\t20 & \\emph{missing} & \\emph{missing} & Unknown & Spain & 2020-12-31 & 2021-01-12 05:22:15 & $\\dots$ \\\\\n",
       "\\end{tabular}\n"
      ],
      "text/plain": [
       "\u001b[1m20×15 DataFrame\u001b[0m\n",
       "\u001b[1m Row \u001b[0m│\u001b[1m FIPS    \u001b[0m\u001b[1m Admin2  \u001b[0m\u001b[1m province             \u001b[0m\u001b[1m country \u001b[0m\u001b[1m fecha      \u001b[0m\u001b[1m Last_Updat\u001b[0m ⋯\n",
       "\u001b[1m     \u001b[0m│\u001b[90m Int64?  \u001b[0m\u001b[90m String? \u001b[0m\u001b[90m String?              \u001b[0m\u001b[90m String  \u001b[0m\u001b[90m Date       \u001b[0m\u001b[90m String31  \u001b[0m ⋯\n",
       "─────┼──────────────────────────────────────────────────────────────────────────\n",
       "   1 │\u001b[90m missing \u001b[0m\u001b[90m missing \u001b[0m Andalusia             Spain    2020-12-31  2021-01-12 ⋯\n",
       "   2 │\u001b[90m missing \u001b[0m\u001b[90m missing \u001b[0m Aragon                Spain    2020-12-31  2021-01-12\n",
       "   3 │\u001b[90m missing \u001b[0m\u001b[90m missing \u001b[0m Asturias              Spain    2020-12-31  2021-01-12\n",
       "   4 │\u001b[90m missing \u001b[0m\u001b[90m missing \u001b[0m Baleares              Spain    2020-12-31  2021-01-12\n",
       "   5 │\u001b[90m missing \u001b[0m\u001b[90m missing \u001b[0m C. Valenciana         Spain    2020-12-31  2021-01-12 ⋯\n",
       "   6 │\u001b[90m missing \u001b[0m\u001b[90m missing \u001b[0m Canarias              Spain    2020-12-31  2021-01-12\n",
       "   7 │\u001b[90m missing \u001b[0m\u001b[90m missing \u001b[0m Cantabria             Spain    2020-12-31  2021-01-12\n",
       "   8 │\u001b[90m missing \u001b[0m\u001b[90m missing \u001b[0m Castilla - La Mancha  Spain    2020-12-31  2021-01-12\n",
       "   9 │\u001b[90m missing \u001b[0m\u001b[90m missing \u001b[0m Castilla y Leon       Spain    2020-12-31  2021-01-12 ⋯\n",
       "  10 │\u001b[90m missing \u001b[0m\u001b[90m missing \u001b[0m Catalonia             Spain    2020-12-31  2021-01-12\n",
       "  11 │\u001b[90m missing \u001b[0m\u001b[90m missing \u001b[0m Ceuta                 Spain    2020-12-31  2021-01-12\n",
       "  12 │\u001b[90m missing \u001b[0m\u001b[90m missing \u001b[0m Extremadura           Spain    2020-12-31  2021-01-12\n",
       "  13 │\u001b[90m missing \u001b[0m\u001b[90m missing \u001b[0m Galicia               Spain    2020-12-31  2021-01-12 ⋯\n",
       "  14 │\u001b[90m missing \u001b[0m\u001b[90m missing \u001b[0m La Rioja              Spain    2020-12-31  2021-01-12\n",
       "  15 │\u001b[90m missing \u001b[0m\u001b[90m missing \u001b[0m Madrid                Spain    2020-12-31  2021-01-12\n",
       "  16 │\u001b[90m missing \u001b[0m\u001b[90m missing \u001b[0m Melilla               Spain    2020-12-31  2021-01-12\n",
       "  17 │\u001b[90m missing \u001b[0m\u001b[90m missing \u001b[0m Murcia                Spain    2020-12-31  2021-01-12 ⋯\n",
       "  18 │\u001b[90m missing \u001b[0m\u001b[90m missing \u001b[0m Navarra               Spain    2020-12-31  2021-01-12\n",
       "  19 │\u001b[90m missing \u001b[0m\u001b[90m missing \u001b[0m Pais Vasco            Spain    2020-12-31  2021-01-12\n",
       "  20 │\u001b[90m missing \u001b[0m\u001b[90m missing \u001b[0m Unknown               Spain    2020-12-31  2021-01-12\n",
       "\u001b[36m                                                              10 columns omitted\u001b[0m"
      ]
     },
     "execution_count": 6,
     "metadata": {},
     "output_type": "execute_result"
    }
   ],
   "source": [
    "df_spain = df[df.country .== \"Spain\", :]\n",
    "insertcols!(df_spain, 5, :fecha .=> Date(\"2020-12-31\"))"
   ]
  },
  {
   "cell_type": "code",
   "execution_count": 7,
   "metadata": {},
   "outputs": [],
   "source": [
    "df_spain.fecha = collect(map(eachrow(df_spain)) do row\n",
    "    row.fecha = Date(split(row.Last_Update, \" \")[1])\n",
    "    end);"
   ]
  },
  {
   "cell_type": "code",
   "execution_count": 8,
   "metadata": {},
   "outputs": [
    {
     "data": {
      "text/html": [
       "<div class=\"data-frame\"><p>20 rows × 15 columns (omitted printing of 9 columns)</p><table class=\"data-frame\"><thead><tr><th></th><th>FIPS</th><th>Admin2</th><th>province</th><th>country</th><th>fecha</th><th>Last_Update</th></tr><tr><th></th><th title=\"Union{Missing, Int64}\">Int64?</th><th title=\"Union{Missing, String}\">String?</th><th title=\"Union{Missing, String}\">String?</th><th title=\"String\">String</th><th title=\"Date\">Date</th><th title=\"String31\">String31</th></tr></thead><tbody><tr><th>1</th><td><em>missing</em></td><td><em>missing</em></td><td>Andalusia</td><td>Spain</td><td>2021-01-12</td><td>2021-01-12 05:22:15</td></tr><tr><th>2</th><td><em>missing</em></td><td><em>missing</em></td><td>Aragon</td><td>Spain</td><td>2021-01-12</td><td>2021-01-12 05:22:15</td></tr><tr><th>3</th><td><em>missing</em></td><td><em>missing</em></td><td>Asturias</td><td>Spain</td><td>2021-01-12</td><td>2021-01-12 05:22:15</td></tr><tr><th>4</th><td><em>missing</em></td><td><em>missing</em></td><td>Baleares</td><td>Spain</td><td>2021-01-12</td><td>2021-01-12 05:22:15</td></tr><tr><th>5</th><td><em>missing</em></td><td><em>missing</em></td><td>C. Valenciana</td><td>Spain</td><td>2021-01-12</td><td>2021-01-12 05:22:15</td></tr><tr><th>6</th><td><em>missing</em></td><td><em>missing</em></td><td>Canarias</td><td>Spain</td><td>2021-01-12</td><td>2021-01-12 05:22:15</td></tr><tr><th>7</th><td><em>missing</em></td><td><em>missing</em></td><td>Cantabria</td><td>Spain</td><td>2021-01-12</td><td>2021-01-12 05:22:15</td></tr><tr><th>8</th><td><em>missing</em></td><td><em>missing</em></td><td>Castilla - La Mancha</td><td>Spain</td><td>2021-01-12</td><td>2021-01-12 05:22:15</td></tr><tr><th>9</th><td><em>missing</em></td><td><em>missing</em></td><td>Castilla y Leon</td><td>Spain</td><td>2021-01-12</td><td>2021-01-12 05:22:15</td></tr><tr><th>10</th><td><em>missing</em></td><td><em>missing</em></td><td>Catalonia</td><td>Spain</td><td>2021-01-12</td><td>2021-01-12 05:22:15</td></tr><tr><th>11</th><td><em>missing</em></td><td><em>missing</em></td><td>Ceuta</td><td>Spain</td><td>2021-01-12</td><td>2021-01-12 05:22:15</td></tr><tr><th>12</th><td><em>missing</em></td><td><em>missing</em></td><td>Extremadura</td><td>Spain</td><td>2021-01-12</td><td>2021-01-12 05:22:15</td></tr><tr><th>13</th><td><em>missing</em></td><td><em>missing</em></td><td>Galicia</td><td>Spain</td><td>2021-01-12</td><td>2021-01-12 05:22:15</td></tr><tr><th>14</th><td><em>missing</em></td><td><em>missing</em></td><td>La Rioja</td><td>Spain</td><td>2021-01-12</td><td>2021-01-12 05:22:15</td></tr><tr><th>15</th><td><em>missing</em></td><td><em>missing</em></td><td>Madrid</td><td>Spain</td><td>2021-01-12</td><td>2021-01-12 05:22:15</td></tr><tr><th>16</th><td><em>missing</em></td><td><em>missing</em></td><td>Melilla</td><td>Spain</td><td>2021-01-12</td><td>2021-01-12 05:22:15</td></tr><tr><th>17</th><td><em>missing</em></td><td><em>missing</em></td><td>Murcia</td><td>Spain</td><td>2021-01-12</td><td>2021-01-12 05:22:15</td></tr><tr><th>18</th><td><em>missing</em></td><td><em>missing</em></td><td>Navarra</td><td>Spain</td><td>2021-01-12</td><td>2021-01-12 05:22:15</td></tr><tr><th>19</th><td><em>missing</em></td><td><em>missing</em></td><td>Pais Vasco</td><td>Spain</td><td>2021-01-12</td><td>2021-01-12 05:22:15</td></tr><tr><th>20</th><td><em>missing</em></td><td><em>missing</em></td><td>Unknown</td><td>Spain</td><td>2021-01-12</td><td>2021-01-12 05:22:15</td></tr></tbody></table></div>"
      ],
      "text/latex": [
       "\\begin{tabular}{r|ccccccc}\n",
       "\t& FIPS & Admin2 & province & country & fecha & Last\\_Update & \\\\\n",
       "\t\\hline\n",
       "\t& Int64? & String? & String? & String & Date & String31 & \\\\\n",
       "\t\\hline\n",
       "\t1 & \\emph{missing} & \\emph{missing} & Andalusia & Spain & 2021-01-12 & 2021-01-12 05:22:15 & $\\dots$ \\\\\n",
       "\t2 & \\emph{missing} & \\emph{missing} & Aragon & Spain & 2021-01-12 & 2021-01-12 05:22:15 & $\\dots$ \\\\\n",
       "\t3 & \\emph{missing} & \\emph{missing} & Asturias & Spain & 2021-01-12 & 2021-01-12 05:22:15 & $\\dots$ \\\\\n",
       "\t4 & \\emph{missing} & \\emph{missing} & Baleares & Spain & 2021-01-12 & 2021-01-12 05:22:15 & $\\dots$ \\\\\n",
       "\t5 & \\emph{missing} & \\emph{missing} & C. Valenciana & Spain & 2021-01-12 & 2021-01-12 05:22:15 & $\\dots$ \\\\\n",
       "\t6 & \\emph{missing} & \\emph{missing} & Canarias & Spain & 2021-01-12 & 2021-01-12 05:22:15 & $\\dots$ \\\\\n",
       "\t7 & \\emph{missing} & \\emph{missing} & Cantabria & Spain & 2021-01-12 & 2021-01-12 05:22:15 & $\\dots$ \\\\\n",
       "\t8 & \\emph{missing} & \\emph{missing} & Castilla - La Mancha & Spain & 2021-01-12 & 2021-01-12 05:22:15 & $\\dots$ \\\\\n",
       "\t9 & \\emph{missing} & \\emph{missing} & Castilla y Leon & Spain & 2021-01-12 & 2021-01-12 05:22:15 & $\\dots$ \\\\\n",
       "\t10 & \\emph{missing} & \\emph{missing} & Catalonia & Spain & 2021-01-12 & 2021-01-12 05:22:15 & $\\dots$ \\\\\n",
       "\t11 & \\emph{missing} & \\emph{missing} & Ceuta & Spain & 2021-01-12 & 2021-01-12 05:22:15 & $\\dots$ \\\\\n",
       "\t12 & \\emph{missing} & \\emph{missing} & Extremadura & Spain & 2021-01-12 & 2021-01-12 05:22:15 & $\\dots$ \\\\\n",
       "\t13 & \\emph{missing} & \\emph{missing} & Galicia & Spain & 2021-01-12 & 2021-01-12 05:22:15 & $\\dots$ \\\\\n",
       "\t14 & \\emph{missing} & \\emph{missing} & La Rioja & Spain & 2021-01-12 & 2021-01-12 05:22:15 & $\\dots$ \\\\\n",
       "\t15 & \\emph{missing} & \\emph{missing} & Madrid & Spain & 2021-01-12 & 2021-01-12 05:22:15 & $\\dots$ \\\\\n",
       "\t16 & \\emph{missing} & \\emph{missing} & Melilla & Spain & 2021-01-12 & 2021-01-12 05:22:15 & $\\dots$ \\\\\n",
       "\t17 & \\emph{missing} & \\emph{missing} & Murcia & Spain & 2021-01-12 & 2021-01-12 05:22:15 & $\\dots$ \\\\\n",
       "\t18 & \\emph{missing} & \\emph{missing} & Navarra & Spain & 2021-01-12 & 2021-01-12 05:22:15 & $\\dots$ \\\\\n",
       "\t19 & \\emph{missing} & \\emph{missing} & Pais Vasco & Spain & 2021-01-12 & 2021-01-12 05:22:15 & $\\dots$ \\\\\n",
       "\t20 & \\emph{missing} & \\emph{missing} & Unknown & Spain & 2021-01-12 & 2021-01-12 05:22:15 & $\\dots$ \\\\\n",
       "\\end{tabular}\n"
      ],
      "text/plain": [
       "\u001b[1m20×15 DataFrame\u001b[0m\n",
       "\u001b[1m Row \u001b[0m│\u001b[1m FIPS    \u001b[0m\u001b[1m Admin2  \u001b[0m\u001b[1m province             \u001b[0m\u001b[1m country \u001b[0m\u001b[1m fecha      \u001b[0m\u001b[1m Last_Updat\u001b[0m ⋯\n",
       "\u001b[1m     \u001b[0m│\u001b[90m Int64?  \u001b[0m\u001b[90m String? \u001b[0m\u001b[90m String?              \u001b[0m\u001b[90m String  \u001b[0m\u001b[90m Date       \u001b[0m\u001b[90m String31  \u001b[0m ⋯\n",
       "─────┼──────────────────────────────────────────────────────────────────────────\n",
       "   1 │\u001b[90m missing \u001b[0m\u001b[90m missing \u001b[0m Andalusia             Spain    2021-01-12  2021-01-12 ⋯\n",
       "   2 │\u001b[90m missing \u001b[0m\u001b[90m missing \u001b[0m Aragon                Spain    2021-01-12  2021-01-12\n",
       "   3 │\u001b[90m missing \u001b[0m\u001b[90m missing \u001b[0m Asturias              Spain    2021-01-12  2021-01-12\n",
       "   4 │\u001b[90m missing \u001b[0m\u001b[90m missing \u001b[0m Baleares              Spain    2021-01-12  2021-01-12\n",
       "   5 │\u001b[90m missing \u001b[0m\u001b[90m missing \u001b[0m C. Valenciana         Spain    2021-01-12  2021-01-12 ⋯\n",
       "   6 │\u001b[90m missing \u001b[0m\u001b[90m missing \u001b[0m Canarias              Spain    2021-01-12  2021-01-12\n",
       "   7 │\u001b[90m missing \u001b[0m\u001b[90m missing \u001b[0m Cantabria             Spain    2021-01-12  2021-01-12\n",
       "   8 │\u001b[90m missing \u001b[0m\u001b[90m missing \u001b[0m Castilla - La Mancha  Spain    2021-01-12  2021-01-12\n",
       "   9 │\u001b[90m missing \u001b[0m\u001b[90m missing \u001b[0m Castilla y Leon       Spain    2021-01-12  2021-01-12 ⋯\n",
       "  10 │\u001b[90m missing \u001b[0m\u001b[90m missing \u001b[0m Catalonia             Spain    2021-01-12  2021-01-12\n",
       "  11 │\u001b[90m missing \u001b[0m\u001b[90m missing \u001b[0m Ceuta                 Spain    2021-01-12  2021-01-12\n",
       "  12 │\u001b[90m missing \u001b[0m\u001b[90m missing \u001b[0m Extremadura           Spain    2021-01-12  2021-01-12\n",
       "  13 │\u001b[90m missing \u001b[0m\u001b[90m missing \u001b[0m Galicia               Spain    2021-01-12  2021-01-12 ⋯\n",
       "  14 │\u001b[90m missing \u001b[0m\u001b[90m missing \u001b[0m La Rioja              Spain    2021-01-12  2021-01-12\n",
       "  15 │\u001b[90m missing \u001b[0m\u001b[90m missing \u001b[0m Madrid                Spain    2021-01-12  2021-01-12\n",
       "  16 │\u001b[90m missing \u001b[0m\u001b[90m missing \u001b[0m Melilla               Spain    2021-01-12  2021-01-12\n",
       "  17 │\u001b[90m missing \u001b[0m\u001b[90m missing \u001b[0m Murcia                Spain    2021-01-12  2021-01-12 ⋯\n",
       "  18 │\u001b[90m missing \u001b[0m\u001b[90m missing \u001b[0m Navarra               Spain    2021-01-12  2021-01-12\n",
       "  19 │\u001b[90m missing \u001b[0m\u001b[90m missing \u001b[0m Pais Vasco            Spain    2021-01-12  2021-01-12\n",
       "  20 │\u001b[90m missing \u001b[0m\u001b[90m missing \u001b[0m Unknown               Spain    2021-01-12  2021-01-12\n",
       "\u001b[36m                                                              10 columns omitted\u001b[0m"
      ]
     },
     "execution_count": 8,
     "metadata": {},
     "output_type": "execute_result"
    }
   ],
   "source": [
    "df_spain"
   ]
  },
  {
   "cell_type": "code",
   "execution_count": 9,
   "metadata": {},
   "outputs": [
    {
     "data": {
      "text/html": [
       "<div class=\"data-frame\"><p>20 rows × 9 columns (omitted printing of 2 columns)</p><table class=\"data-frame\"><thead><tr><th></th><th>province</th><th>country</th><th>fecha</th><th>Confirmed</th><th>Deaths</th><th>Recovered</th><th>Active</th></tr><tr><th></th><th title=\"Union{Missing, String}\">String?</th><th title=\"String\">String</th><th title=\"Date\">Date</th><th title=\"Int64\">Int64</th><th title=\"Int64\">Int64</th><th title=\"Int64\">Int64</th><th title=\"Int64\">Int64</th></tr></thead><tbody><tr><th>1</th><td>Andalusia</td><td>Spain</td><td>2021-01-12</td><td>286415</td><td>5329</td><td>10671</td><td>270415</td></tr><tr><th>2</th><td>Aragon</td><td>Spain</td><td>2021-01-12</td><td>84130</td><td>2704</td><td>3772</td><td>77654</td></tr><tr><th>3</th><td>Asturias</td><td>Spain</td><td>2021-01-12</td><td>28737</td><td>1385</td><td>1063</td><td>26289</td></tr><tr><th>4</th><td>Baleares</td><td>Spain</td><td>2021-01-12</td><td>41275</td><td>490</td><td>1533</td><td>39252</td></tr><tr><th>5</th><td>C. Valenciana</td><td>Spain</td><td>2021-01-12</td><td>174172</td><td>3286</td><td>9970</td><td>160916</td></tr><tr><th>6</th><td>Canarias</td><td>Spain</td><td>2021-01-12</td><td>29626</td><td>451</td><td>1537</td><td>27638</td></tr><tr><th>7</th><td>Cantabria</td><td>Spain</td><td>2021-01-12</td><td>19291</td><td>405</td><td>2287</td><td>16599</td></tr><tr><th>8</th><td>Castilla - La Mancha</td><td>Spain</td><td>2021-01-12</td><td>110614</td><td>4131</td><td>6392</td><td>100091</td></tr><tr><th>9</th><td>Castilla y Leon</td><td>Spain</td><td>2021-01-12</td><td>141928</td><td>5160</td><td>8716</td><td>128052</td></tr><tr><th>10</th><td>Catalonia</td><td>Spain</td><td>2021-01-12</td><td>400552</td><td>8863</td><td>26203</td><td>365486</td></tr><tr><th>11</th><td>Ceuta</td><td>Spain</td><td>2021-01-12</td><td>3306</td><td>62</td><td>163</td><td>3081</td></tr><tr><th>12</th><td>Extremadura</td><td>Spain</td><td>2021-01-12</td><td>46130</td><td>1135</td><td>2652</td><td>42343</td></tr><tr><th>13</th><td>Galicia</td><td>Spain</td><td>2021-01-12</td><td>67842</td><td>1443</td><td>9204</td><td>57195</td></tr><tr><th>14</th><td>La Rioja</td><td>Spain</td><td>2021-01-12</td><td>19866</td><td>596</td><td>3107</td><td>16163</td></tr><tr><th>15</th><td>Madrid</td><td>Spain</td><td>2021-01-12</td><td>429181</td><td>11996</td><td>40736</td><td>376449</td></tr><tr><th>16</th><td>Melilla</td><td>Spain</td><td>2021-01-12</td><td>4809</td><td>46</td><td>125</td><td>4638</td></tr><tr><th>17</th><td>Murcia</td><td>Spain</td><td>2021-01-12</td><td>63835</td><td>778</td><td>2180</td><td>60877</td></tr><tr><th>18</th><td>Navarra</td><td>Spain</td><td>2021-01-12</td><td>44001</td><td>976</td><td>3905</td><td>39120</td></tr><tr><th>19</th><td>Pais Vasco</td><td>Spain</td><td>2021-01-12</td><td>116072</td><td>3039</td><td>16160</td><td>96873</td></tr><tr><th>20</th><td>Unknown</td><td>Spain</td><td>2021-01-12</td><td>0</td><td>0</td><td>0</td><td>0</td></tr></tbody></table></div>"
      ],
      "text/latex": [
       "\\begin{tabular}{r|cccccccc}\n",
       "\t& province & country & fecha & Confirmed & Deaths & Recovered & Active & \\\\\n",
       "\t\\hline\n",
       "\t& String? & String & Date & Int64 & Int64 & Int64 & Int64 & \\\\\n",
       "\t\\hline\n",
       "\t1 & Andalusia & Spain & 2021-01-12 & 286415 & 5329 & 10671 & 270415 & $\\dots$ \\\\\n",
       "\t2 & Aragon & Spain & 2021-01-12 & 84130 & 2704 & 3772 & 77654 & $\\dots$ \\\\\n",
       "\t3 & Asturias & Spain & 2021-01-12 & 28737 & 1385 & 1063 & 26289 & $\\dots$ \\\\\n",
       "\t4 & Baleares & Spain & 2021-01-12 & 41275 & 490 & 1533 & 39252 & $\\dots$ \\\\\n",
       "\t5 & C. Valenciana & Spain & 2021-01-12 & 174172 & 3286 & 9970 & 160916 & $\\dots$ \\\\\n",
       "\t6 & Canarias & Spain & 2021-01-12 & 29626 & 451 & 1537 & 27638 & $\\dots$ \\\\\n",
       "\t7 & Cantabria & Spain & 2021-01-12 & 19291 & 405 & 2287 & 16599 & $\\dots$ \\\\\n",
       "\t8 & Castilla - La Mancha & Spain & 2021-01-12 & 110614 & 4131 & 6392 & 100091 & $\\dots$ \\\\\n",
       "\t9 & Castilla y Leon & Spain & 2021-01-12 & 141928 & 5160 & 8716 & 128052 & $\\dots$ \\\\\n",
       "\t10 & Catalonia & Spain & 2021-01-12 & 400552 & 8863 & 26203 & 365486 & $\\dots$ \\\\\n",
       "\t11 & Ceuta & Spain & 2021-01-12 & 3306 & 62 & 163 & 3081 & $\\dots$ \\\\\n",
       "\t12 & Extremadura & Spain & 2021-01-12 & 46130 & 1135 & 2652 & 42343 & $\\dots$ \\\\\n",
       "\t13 & Galicia & Spain & 2021-01-12 & 67842 & 1443 & 9204 & 57195 & $\\dots$ \\\\\n",
       "\t14 & La Rioja & Spain & 2021-01-12 & 19866 & 596 & 3107 & 16163 & $\\dots$ \\\\\n",
       "\t15 & Madrid & Spain & 2021-01-12 & 429181 & 11996 & 40736 & 376449 & $\\dots$ \\\\\n",
       "\t16 & Melilla & Spain & 2021-01-12 & 4809 & 46 & 125 & 4638 & $\\dots$ \\\\\n",
       "\t17 & Murcia & Spain & 2021-01-12 & 63835 & 778 & 2180 & 60877 & $\\dots$ \\\\\n",
       "\t18 & Navarra & Spain & 2021-01-12 & 44001 & 976 & 3905 & 39120 & $\\dots$ \\\\\n",
       "\t19 & Pais Vasco & Spain & 2021-01-12 & 116072 & 3039 & 16160 & 96873 & $\\dots$ \\\\\n",
       "\t20 & Unknown & Spain & 2021-01-12 & 0 & 0 & 0 & 0 & $\\dots$ \\\\\n",
       "\\end{tabular}\n"
      ],
      "text/plain": [
       "\u001b[1m20×9 DataFrame\u001b[0m\n",
       "\u001b[1m Row \u001b[0m│\u001b[1m province             \u001b[0m\u001b[1m country \u001b[0m\u001b[1m fecha      \u001b[0m\u001b[1m Confirmed \u001b[0m\u001b[1m Deaths \u001b[0m\u001b[1m Recovered\u001b[0m ⋯\n",
       "\u001b[1m     \u001b[0m│\u001b[90m String?              \u001b[0m\u001b[90m String  \u001b[0m\u001b[90m Date       \u001b[0m\u001b[90m Int64     \u001b[0m\u001b[90m Int64  \u001b[0m\u001b[90m Int64    \u001b[0m ⋯\n",
       "─────┼──────────────────────────────────────────────────────────────────────────\n",
       "   1 │ Andalusia             Spain    2021-01-12     286415    5329      10671 ⋯\n",
       "   2 │ Aragon                Spain    2021-01-12      84130    2704       3772\n",
       "   3 │ Asturias              Spain    2021-01-12      28737    1385       1063\n",
       "   4 │ Baleares              Spain    2021-01-12      41275     490       1533\n",
       "   5 │ C. Valenciana         Spain    2021-01-12     174172    3286       9970 ⋯\n",
       "   6 │ Canarias              Spain    2021-01-12      29626     451       1537\n",
       "   7 │ Cantabria             Spain    2021-01-12      19291     405       2287\n",
       "   8 │ Castilla - La Mancha  Spain    2021-01-12     110614    4131       6392\n",
       "   9 │ Castilla y Leon       Spain    2021-01-12     141928    5160       8716 ⋯\n",
       "  10 │ Catalonia             Spain    2021-01-12     400552    8863      26203\n",
       "  11 │ Ceuta                 Spain    2021-01-12       3306      62        163\n",
       "  12 │ Extremadura           Spain    2021-01-12      46130    1135       2652\n",
       "  13 │ Galicia               Spain    2021-01-12      67842    1443       9204 ⋯\n",
       "  14 │ La Rioja              Spain    2021-01-12      19866     596       3107\n",
       "  15 │ Madrid                Spain    2021-01-12     429181   11996      40736\n",
       "  16 │ Melilla               Spain    2021-01-12       4809      46        125\n",
       "  17 │ Murcia                Spain    2021-01-12      63835     778       2180 ⋯\n",
       "  18 │ Navarra               Spain    2021-01-12      44001     976       3905\n",
       "  19 │ Pais Vasco            Spain    2021-01-12     116072    3039      16160\n",
       "  20 │ Unknown               Spain    2021-01-12          0       0          0\n",
       "\u001b[36m                                                               3 columns omitted\u001b[0m"
      ]
     },
     "execution_count": 9,
     "metadata": {},
     "output_type": "execute_result"
    }
   ],
   "source": [
    "select!(df_spain, Not([:FIPS,:Admin2,:Lat,:Long_,:Last_Update,:Combined_Key]))"
   ]
  },
  {
   "cell_type": "code",
   "execution_count": 10,
   "metadata": {},
   "outputs": [
    {
     "data": {
      "text/html": [
       "<div class=\"data-frame\"><p>9 rows × 7 columns</p><table class=\"data-frame\"><thead><tr><th></th><th>variable</th><th>mean</th><th>min</th><th>median</th><th>max</th><th>nmissing</th><th>eltype</th></tr><tr><th></th><th title=\"Symbol\">Symbol</th><th title=\"Union{Nothing, Float64}\">Union…</th><th title=\"Any\">Any</th><th title=\"Union{Nothing, Float64}\">Union…</th><th title=\"Any\">Any</th><th title=\"Int64\">Int64</th><th title=\"Type\">Type</th></tr></thead><tbody><tr><th>1</th><td>province</td><td></td><td>Andalusia</td><td></td><td>Unknown</td><td>0</td><td>Union{Missing, String}</td></tr><tr><th>2</th><td>country</td><td></td><td>Spain</td><td></td><td>Spain</td><td>0</td><td>String</td></tr><tr><th>3</th><td>fecha</td><td></td><td>2021-01-12</td><td></td><td>2021-01-12</td><td>0</td><td>Date</td></tr><tr><th>4</th><td>Confirmed</td><td>1.05589e5</td><td>0</td><td>54982.5</td><td>429181</td><td>0</td><td>Int64</td></tr><tr><th>5</th><td>Deaths</td><td>2613.75</td><td>0</td><td>1260.0</td><td>11996</td><td>0</td><td>Int64</td></tr><tr><th>6</th><td>Recovered</td><td>7518.8</td><td>0</td><td>3439.5</td><td>40736</td><td>0</td><td>Int64</td></tr><tr><th>7</th><td>Active</td><td>95456.6</td><td>0</td><td>49769.0</td><td>376449</td><td>0</td><td>Int64</td></tr><tr><th>8</th><td>Incident_Rate</td><td>4549.69</td><td>1342.43</td><td>4329.73</td><td>6769.95</td><td>1</td><td>Union{Missing, Float64}</td></tr><tr><th>9</th><td>Case_Fatality_Ratio</td><td>2.3917</td><td>0.95654</td><td>2.2127</td><td>4.81957</td><td>1</td><td>Union{Missing, Float64}</td></tr></tbody></table></div>"
      ],
      "text/latex": [
       "\\begin{tabular}{r|ccccccc}\n",
       "\t& variable & mean & min & median & max & nmissing & eltype\\\\\n",
       "\t\\hline\n",
       "\t& Symbol & Union… & Any & Union… & Any & Int64 & Type\\\\\n",
       "\t\\hline\n",
       "\t1 & province &  & Andalusia &  & Unknown & 0 & Union\\{Missing, String\\} \\\\\n",
       "\t2 & country &  & Spain &  & Spain & 0 & String \\\\\n",
       "\t3 & fecha &  & 2021-01-12 &  & 2021-01-12 & 0 & Date \\\\\n",
       "\t4 & Confirmed & 1.05589e5 & 0 & 54982.5 & 429181 & 0 & Int64 \\\\\n",
       "\t5 & Deaths & 2613.75 & 0 & 1260.0 & 11996 & 0 & Int64 \\\\\n",
       "\t6 & Recovered & 7518.8 & 0 & 3439.5 & 40736 & 0 & Int64 \\\\\n",
       "\t7 & Active & 95456.6 & 0 & 49769.0 & 376449 & 0 & Int64 \\\\\n",
       "\t8 & Incident\\_Rate & 4549.69 & 1342.43 & 4329.73 & 6769.95 & 1 & Union\\{Missing, Float64\\} \\\\\n",
       "\t9 & Case\\_Fatality\\_Ratio & 2.3917 & 0.95654 & 2.2127 & 4.81957 & 1 & Union\\{Missing, Float64\\} \\\\\n",
       "\\end{tabular}\n"
      ],
      "text/plain": [
       "\u001b[1m9×7 DataFrame\u001b[0m\n",
       "\u001b[1m Row \u001b[0m│\u001b[1m variable            \u001b[0m\u001b[1m mean      \u001b[0m\u001b[1m min        \u001b[0m\u001b[1m median  \u001b[0m\u001b[1m max        \u001b[0m\u001b[1m nmissi\u001b[0m ⋯\n",
       "\u001b[1m     \u001b[0m│\u001b[90m Symbol              \u001b[0m\u001b[90m Union…    \u001b[0m\u001b[90m Any        \u001b[0m\u001b[90m Union…  \u001b[0m\u001b[90m Any        \u001b[0m\u001b[90m Int64 \u001b[0m ⋯\n",
       "─────┼──────────────────────────────────────────────────────────────────────────\n",
       "   1 │ province            \u001b[90m           \u001b[0m Andalusia  \u001b[90m         \u001b[0m Unknown            ⋯\n",
       "   2 │ country             \u001b[90m           \u001b[0m Spain      \u001b[90m         \u001b[0m Spain\n",
       "   3 │ fecha               \u001b[90m           \u001b[0m 2021-01-12 \u001b[90m         \u001b[0m 2021-01-12\n",
       "   4 │ Confirmed            1.05589e5  0           54982.5  429181\n",
       "   5 │ Deaths               2613.75    0           1260.0   11996              ⋯\n",
       "   6 │ Recovered            7518.8     0           3439.5   40736\n",
       "   7 │ Active               95456.6    0           49769.0  376449\n",
       "   8 │ Incident_Rate        4549.69    1342.43     4329.73  6769.95\n",
       "   9 │ Case_Fatality_Ratio  2.3917     0.95654     2.2127   4.81957            ⋯\n",
       "\u001b[36m                                                               2 columns omitted\u001b[0m"
      ]
     },
     "execution_count": 10,
     "metadata": {},
     "output_type": "execute_result"
    }
   ],
   "source": [
    "describe(df_spain)"
   ]
  },
  {
   "cell_type": "code",
   "execution_count": 11,
   "metadata": {},
   "outputs": [
    {
     "data": {
      "text/html": [
       "<div class=\"data-frame\"><p>1 rows × 9 columns (omitted printing of 1 columns)</p><table class=\"data-frame\"><thead><tr><th></th><th>province</th><th>country</th><th>Last_Update</th><th>Confirmed</th><th>Deaths</th><th>Recovered</th><th>Active</th><th>Incident_Rate</th></tr><tr><th></th><th title=\"Union{Missing, String}\">String?</th><th title=\"String\">String</th><th title=\"String31\">String31</th><th title=\"Int64\">Int64</th><th title=\"Int64\">Int64</th><th title=\"Int64\">Int64</th><th title=\"Int64\">Int64</th><th title=\"Union{Missing, Float64}\">Float64?</th></tr></thead><tbody><tr><th>1</th><td>Catalonia</td><td>Spain</td><td>2021-01-12 05:22:15</td><td>400552</td><td>8863</td><td>26203</td><td>365486</td><td>5293.8</td></tr></tbody></table></div>"
      ],
      "text/latex": [
       "\\begin{tabular}{r|ccccccccc}\n",
       "\t& province & country & Last\\_Update & Confirmed & Deaths & Recovered & Active & Incident\\_Rate & \\\\\n",
       "\t\\hline\n",
       "\t& String? & String & String31 & Int64 & Int64 & Int64 & Int64 & Float64? & \\\\\n",
       "\t\\hline\n",
       "\t1 & Catalonia & Spain & 2021-01-12 05:22:15 & 400552 & 8863 & 26203 & 365486 & 5293.8 & $\\dots$ \\\\\n",
       "\\end{tabular}\n"
      ],
      "text/plain": [
       "\u001b[1m1×9 DataFrame\u001b[0m\n",
       "\u001b[1m Row \u001b[0m│\u001b[1m province  \u001b[0m\u001b[1m country \u001b[0m\u001b[1m Last_Update         \u001b[0m\u001b[1m Confirmed \u001b[0m\u001b[1m Deaths \u001b[0m\u001b[1m Recovered \u001b[0m\u001b[1m \u001b[0m ⋯\n",
       "\u001b[1m     \u001b[0m│\u001b[90m String?   \u001b[0m\u001b[90m String  \u001b[0m\u001b[90m String31            \u001b[0m\u001b[90m Int64     \u001b[0m\u001b[90m Int64  \u001b[0m\u001b[90m Int64     \u001b[0m\u001b[90m \u001b[0m ⋯\n",
       "─────┼──────────────────────────────────────────────────────────────────────────\n",
       "   1 │ Catalonia  Spain    2021-01-12 05:22:15     400552    8863      26203   ⋯\n",
       "\u001b[36m                                                               3 columns omitted\u001b[0m"
      ]
     },
     "execution_count": 11,
     "metadata": {},
     "output_type": "execute_result"
    }
   ],
   "source": [
    "df_catalonia = df[(df.country .== \"Spain\") .& (df.province .== \"Catalonia\"), :]\n",
    "select!(df_catalonia, Not([:FIPS,:Admin2,:Lat,:Long_,:Combined_Key]))"
   ]
  },
  {
   "cell_type": "code",
   "execution_count": 12,
   "metadata": {},
   "outputs": [
    {
     "data": {
      "text/html": [
       "<div class=\"data-frame\"><p>1 rows × 9 columns (omitted printing of 1 columns)</p><table class=\"data-frame\"><thead><tr><th></th><th>province</th><th>country</th><th>Last_Update</th><th>Confirmed</th><th>Deaths</th><th>Recovered</th><th>Active</th><th>Incident_Rate</th></tr><tr><th></th><th title=\"Union{Missing, String}\">String?</th><th title=\"String\">String</th><th title=\"String31\">String31</th><th title=\"Int64\">Int64</th><th title=\"Int64\">Int64</th><th title=\"Int64\">Int64</th><th title=\"Int64\">Int64</th><th title=\"Union{Missing, Float64}\">Float64?</th></tr></thead><tbody><tr><th>1</th><td>Madrid</td><td>Spain</td><td>2021-01-12 05:22:15</td><td>429181</td><td>11996</td><td>40736</td><td>376449</td><td>6461.96</td></tr></tbody></table></div>"
      ],
      "text/latex": [
       "\\begin{tabular}{r|ccccccccc}\n",
       "\t& province & country & Last\\_Update & Confirmed & Deaths & Recovered & Active & Incident\\_Rate & \\\\\n",
       "\t\\hline\n",
       "\t& String? & String & String31 & Int64 & Int64 & Int64 & Int64 & Float64? & \\\\\n",
       "\t\\hline\n",
       "\t1 & Madrid & Spain & 2021-01-12 05:22:15 & 429181 & 11996 & 40736 & 376449 & 6461.96 & $\\dots$ \\\\\n",
       "\\end{tabular}\n"
      ],
      "text/plain": [
       "\u001b[1m1×9 DataFrame\u001b[0m\n",
       "\u001b[1m Row \u001b[0m│\u001b[1m province \u001b[0m\u001b[1m country \u001b[0m\u001b[1m Last_Update         \u001b[0m\u001b[1m Confirmed \u001b[0m\u001b[1m Deaths \u001b[0m\u001b[1m Recovered \u001b[0m\u001b[1m A\u001b[0m ⋯\n",
       "\u001b[1m     \u001b[0m│\u001b[90m String?  \u001b[0m\u001b[90m String  \u001b[0m\u001b[90m String31            \u001b[0m\u001b[90m Int64     \u001b[0m\u001b[90m Int64  \u001b[0m\u001b[90m Int64     \u001b[0m\u001b[90m I\u001b[0m ⋯\n",
       "─────┼──────────────────────────────────────────────────────────────────────────\n",
       "   1 │ Madrid    Spain    2021-01-12 05:22:15     429181   11996      40736  3 ⋯\n",
       "\u001b[36m                                                               3 columns omitted\u001b[0m"
      ]
     },
     "execution_count": 12,
     "metadata": {},
     "output_type": "execute_result"
    }
   ],
   "source": [
    "df_madrid = df[(df.country .== \"Spain\") .& (df.province .== \"Madrid\"), :]\n",
    "select!(df_madrid, Not([:FIPS,:Admin2,:Lat,:Long_,:Combined_Key]))"
   ]
  },
  {
   "cell_type": "code",
   "execution_count": 13,
   "metadata": {},
   "outputs": [
    {
     "name": "stdout",
     "output_type": "stream",
     "text": [
      "\u001b[1m1×9 DataFrame\u001b[0m\n",
      "\u001b[1m Row \u001b[0m│\u001b[1m province  \u001b[0m\u001b[1m country \u001b[0m\u001b[1m Last_Update         \u001b[0m\u001b[1m Confirmed \u001b[0m\u001b[1m Deaths \u001b[0m\u001b[1m Recovered \u001b[0m\u001b[1m Active \u001b[0m\u001b[1m Incident_Rate \u001b[0m\u001b[1m Case_Fatality_Ratio \u001b[0m\n",
      "\u001b[1m     \u001b[0m│\u001b[90m String?   \u001b[0m\u001b[90m String  \u001b[0m\u001b[90m String31            \u001b[0m\u001b[90m Int64     \u001b[0m\u001b[90m Int64  \u001b[0m\u001b[90m Int64     \u001b[0m\u001b[90m Int64  \u001b[0m\u001b[90m Float64?      \u001b[0m\u001b[90m Float64?            \u001b[0m\n",
      "─────┼───────────────────────────────────────────────────────────────────────────────────────────────────────────────────\n",
      "   1 │ Catalonia  Spain    2021-01-12 05:22:15     400552    8863      26203  365486         5293.8               2.2127"
     ]
    }
   ],
   "source": [
    "show(df_catalonia, allcols=true)"
   ]
  },
  {
   "cell_type": "code",
   "execution_count": 14,
   "metadata": {
    "scrolled": true
   },
   "outputs": [
    {
     "name": "stdout",
     "output_type": "stream",
     "text": [
      "\u001b[1m1×9 DataFrame\u001b[0m\n",
      "\u001b[1m Row \u001b[0m│\u001b[1m province \u001b[0m\u001b[1m country \u001b[0m\u001b[1m Last_Update         \u001b[0m\u001b[1m Confirmed \u001b[0m\u001b[1m Deaths \u001b[0m\u001b[1m Recovered \u001b[0m\u001b[1m Active \u001b[0m\u001b[1m Incident_Rate \u001b[0m\u001b[1m Case_Fatality_Ratio \u001b[0m\n",
      "\u001b[1m     \u001b[0m│\u001b[90m String?  \u001b[0m\u001b[90m String  \u001b[0m\u001b[90m String31            \u001b[0m\u001b[90m Int64     \u001b[0m\u001b[90m Int64  \u001b[0m\u001b[90m Int64     \u001b[0m\u001b[90m Int64  \u001b[0m\u001b[90m Float64?      \u001b[0m\u001b[90m Float64?            \u001b[0m\n",
      "─────┼──────────────────────────────────────────────────────────────────────────────────────────────────────────────────\n",
      "   1 │ Madrid    Spain    2021-01-12 05:22:15     429181   11996      40736  376449        6461.96              2.79509"
     ]
    }
   ],
   "source": [
    "show(df_madrid, allcols=true)"
   ]
  },
  {
   "cell_type": "code",
   "execution_count": 15,
   "metadata": {},
   "outputs": [
    {
     "name": "stdout",
     "output_type": "stream",
     "text": [
      "\u001b[1m20×9 DataFrame\u001b[0m\n",
      "\u001b[1m Row \u001b[0m│\u001b[1m province             \u001b[0m\u001b[1m country \u001b[0m\u001b[1m fecha      \u001b[0m\u001b[1m Confirmed \u001b[0m\u001b[1m Deaths \u001b[0m\u001b[1m Recovered \u001b[0m\u001b[1m Active \u001b[0m\u001b[1m Incident_Rate \u001b[0m\u001b[1m Case_Fatality_Ratio \u001b[0m\n",
      "\u001b[1m     \u001b[0m│\u001b[90m String?              \u001b[0m\u001b[90m String  \u001b[0m\u001b[90m Date       \u001b[0m\u001b[90m Int64     \u001b[0m\u001b[90m Int64  \u001b[0m\u001b[90m Int64     \u001b[0m\u001b[90m Int64  \u001b[0m\u001b[90m Float64?      \u001b[0m\u001b[90m Float64?            \u001b[0m\n",
      "─────┼─────────────────────────────────────────────────────────────────────────────────────────────────────────────────────\n",
      "   1 │ Andalusia             Spain    2021-01-12     286415    5329      10671  270415        3398.61              1.86059\n",
      "   2 │ Aragon                Spain    2021-01-12      84130    2704       3772   77654        6370.66              3.21407\n",
      "   3 │ Asturias              Spain    2021-01-12      28737    1385       1063   26289        2811.28              4.81957\n",
      "   4 │ Baleares              Spain    2021-01-12      41275     490       1533   39252        3473.68              1.18716\n",
      "   5 │ C. Valenciana         Spain    2021-01-12     174172    3286       9970  160916        3500.97              1.88664\n",
      "   6 │ Canarias              Spain    2021-01-12      29626     451       1537   27638        1342.43              1.52231\n",
      "   7 │ Cantabria             Spain    2021-01-12      19291     405       2287   16599        3316.65              2.09942\n",
      "   8 │ Castilla - La Mancha  Spain    2021-01-12     110614    4131       6392  100091        5435.91              3.73461\n",
      "   9 │ Castilla y Leon       Spain    2021-01-12     141928    5160       8716  128052        5894.67              3.63565\n",
      "  10 │ Catalonia             Spain    2021-01-12     400552    8863      26203  365486        5293.8               2.2127\n",
      "  11 │ Ceuta                 Spain    2021-01-12       3306      62        163    3081        3897.25              1.87538\n",
      "  12 │ Extremadura           Spain    2021-01-12      46130    1135       2652   42343        4329.73              2.46044\n",
      "  13 │ Galicia               Spain    2021-01-12      67842    1443       9204   57195        2512.26              2.127\n",
      "  14 │ La Rioja              Spain    2021-01-12      19866     596       3107   16163        6335.41              3.0001\n",
      "  15 │ Madrid                Spain    2021-01-12     429181   11996      40736  376449        6461.96              2.79509\n",
      "  16 │ Melilla               Spain    2021-01-12       4809      46        125    4638        5678.42              0.95654\n",
      "  17 │ Murcia                Spain    2021-01-12      63835     778       2180   60877        4290.96              1.21877\n",
      "  18 │ Navarra               Spain    2021-01-12      44001     976       3905   39120        6769.95              2.21813\n",
      "  19 │ Pais Vasco            Spain    2021-01-12     116072    3039      16160   96873        5329.59              2.6182\n",
      "  20 │ Unknown               Spain    2021-01-12          0       0          0       0 \u001b[90m    missing    \u001b[0m\u001b[90m       missing       \u001b[0m"
     ]
    }
   ],
   "source": [
    "show(df_spain, allcols=true)"
   ]
  },
  {
   "cell_type": "code",
   "execution_count": 16,
   "metadata": {},
   "outputs": [
    {
     "data": {
      "text/plain": [
       "2022-01-24"
      ]
     },
     "execution_count": 16,
     "metadata": {},
     "output_type": "execute_result"
    }
   ],
   "source": [
    "Date(now())"
   ]
  },
  {
   "cell_type": "code",
   "execution_count": 17,
   "metadata": {},
   "outputs": [
    {
     "data": {
      "text/plain": [
       "24 days"
      ]
     },
     "execution_count": 17,
     "metadata": {},
     "output_type": "execute_result"
    }
   ],
   "source": [
    "Day(now())"
   ]
  },
  {
   "cell_type": "code",
   "execution_count": null,
   "metadata": {},
   "outputs": [],
   "source": []
  }
 ],
 "metadata": {
  "@webio": {
   "lastCommId": null,
   "lastKernelId": null
  },
  "kernelspec": {
   "display_name": "Julia 1.6.5",
   "language": "julia",
   "name": "julia-1.6"
  },
  "language_info": {
   "file_extension": ".jl",
   "mimetype": "application/julia",
   "name": "julia",
   "version": "1.6.5"
  }
 },
 "nbformat": 4,
 "nbformat_minor": 4
}
