{
 "cells": [
  {
   "cell_type": "markdown",
   "metadata": {},
   "source": [
    "# Covid-19 in Spain"
   ]
  },
  {
   "cell_type": "code",
   "execution_count": 1,
   "metadata": {},
   "outputs": [],
   "source": [
    "using DataFrames, DataFramesMeta, CSV, Plots, Dates"
   ]
  },
  {
   "cell_type": "code",
   "execution_count": 2,
   "metadata": {},
   "outputs": [],
   "source": [
    "url = \"../COVID-19/csse_covid_19_data/csse_covid_19_daily_reports/01-10-2021.csv\";"
   ]
  },
  {
   "cell_type": "code",
   "execution_count": 3,
   "metadata": {},
   "outputs": [],
   "source": [
    "df = CSV.read(url, DataFrame);"
   ]
  },
  {
   "cell_type": "code",
   "execution_count": 4,
   "metadata": {},
   "outputs": [],
   "source": [
    "rename!(df, 3 => \"province\", 4 => \"country\");"
   ]
  },
  {
   "cell_type": "code",
   "execution_count": 5,
   "metadata": {},
   "outputs": [
    {
     "data": {
      "text/html": [
       "<table class=\"data-frame\"><thead><tr><th></th><th>FIPS</th><th>Admin2</th><th>province</th><th>country</th><th>Last_Update</th><th>Lat</th></tr><tr><th></th><th>Int64?</th><th>String?</th><th>String?</th><th>String</th><th>String</th><th>Float64?</th></tr></thead><tbody><p>12 rows × 14 columns (omitted printing of 8 columns)</p><tr><th>1</th><td><em>missing</em></td><td><em>missing</em></td><td>French Guiana</td><td>France</td><td>2021-01-11 05:21:50</td><td>4.0</td></tr><tr><th>2</th><td><em>missing</em></td><td><em>missing</em></td><td>French Polynesia</td><td>France</td><td>2021-01-11 05:21:50</td><td>-17.6797</td></tr><tr><th>3</th><td><em>missing</em></td><td><em>missing</em></td><td>Guadeloupe</td><td>France</td><td>2021-01-11 05:21:50</td><td>16.265</td></tr><tr><th>4</th><td><em>missing</em></td><td><em>missing</em></td><td>Martinique</td><td>France</td><td>2021-01-11 05:21:50</td><td>14.6415</td></tr><tr><th>5</th><td><em>missing</em></td><td><em>missing</em></td><td>Mayotte</td><td>France</td><td>2021-01-11 05:21:50</td><td>-12.8275</td></tr><tr><th>6</th><td><em>missing</em></td><td><em>missing</em></td><td>New Caledonia</td><td>France</td><td>2021-01-11 05:21:50</td><td>-20.9043</td></tr><tr><th>7</th><td><em>missing</em></td><td><em>missing</em></td><td>Reunion</td><td>France</td><td>2021-01-11 05:21:50</td><td>-21.1151</td></tr><tr><th>8</th><td><em>missing</em></td><td><em>missing</em></td><td>Saint Barthelemy</td><td>France</td><td>2021-01-11 05:21:50</td><td>17.9</td></tr><tr><th>9</th><td><em>missing</em></td><td><em>missing</em></td><td>Saint Pierre and Miquelon</td><td>France</td><td>2021-01-11 05:21:50</td><td>46.8852</td></tr><tr><th>10</th><td><em>missing</em></td><td><em>missing</em></td><td>St Martin</td><td>France</td><td>2021-01-11 05:21:50</td><td>18.0708</td></tr><tr><th>11</th><td><em>missing</em></td><td><em>missing</em></td><td>Wallis and Futuna</td><td>France</td><td>2021-01-11 05:21:50</td><td>-14.2938</td></tr><tr><th>12</th><td><em>missing</em></td><td><em>missing</em></td><td><em>missing</em></td><td>France</td><td>2021-01-11 05:21:50</td><td>46.2276</td></tr></tbody></table>"
      ],
      "text/latex": [
       "\\begin{tabular}{r|ccccccc}\n",
       "\t& FIPS & Admin2 & province & country & Last\\_Update & Lat & \\\\\n",
       "\t\\hline\n",
       "\t& Int64? & String? & String? & String & String & Float64? & \\\\\n",
       "\t\\hline\n",
       "\t1 & \\emph{missing} & \\emph{missing} & French Guiana & France & 2021-01-11 05:21:50 & 4.0 & $\\dots$ \\\\\n",
       "\t2 & \\emph{missing} & \\emph{missing} & French Polynesia & France & 2021-01-11 05:21:50 & -17.6797 & $\\dots$ \\\\\n",
       "\t3 & \\emph{missing} & \\emph{missing} & Guadeloupe & France & 2021-01-11 05:21:50 & 16.265 & $\\dots$ \\\\\n",
       "\t4 & \\emph{missing} & \\emph{missing} & Martinique & France & 2021-01-11 05:21:50 & 14.6415 & $\\dots$ \\\\\n",
       "\t5 & \\emph{missing} & \\emph{missing} & Mayotte & France & 2021-01-11 05:21:50 & -12.8275 & $\\dots$ \\\\\n",
       "\t6 & \\emph{missing} & \\emph{missing} & New Caledonia & France & 2021-01-11 05:21:50 & -20.9043 & $\\dots$ \\\\\n",
       "\t7 & \\emph{missing} & \\emph{missing} & Reunion & France & 2021-01-11 05:21:50 & -21.1151 & $\\dots$ \\\\\n",
       "\t8 & \\emph{missing} & \\emph{missing} & Saint Barthelemy & France & 2021-01-11 05:21:50 & 17.9 & $\\dots$ \\\\\n",
       "\t9 & \\emph{missing} & \\emph{missing} & Saint Pierre and Miquelon & France & 2021-01-11 05:21:50 & 46.8852 & $\\dots$ \\\\\n",
       "\t10 & \\emph{missing} & \\emph{missing} & St Martin & France & 2021-01-11 05:21:50 & 18.0708 & $\\dots$ \\\\\n",
       "\t11 & \\emph{missing} & \\emph{missing} & Wallis and Futuna & France & 2021-01-11 05:21:50 & -14.2938 & $\\dots$ \\\\\n",
       "\t12 & \\emph{missing} & \\emph{missing} & \\emph{missing} & France & 2021-01-11 05:21:50 & 46.2276 & $\\dots$ \\\\\n",
       "\\end{tabular}\n"
      ],
      "text/plain": [
       "\u001b[1m12×14 DataFrame\u001b[0m\n",
       "\u001b[1m Row \u001b[0m│\u001b[1m FIPS    \u001b[0m\u001b[1m Admin2  \u001b[0m\u001b[1m province                  \u001b[0m\u001b[1m country \u001b[0m\u001b[1m Last_Update      \u001b[0m ⋯\n",
       "\u001b[1m     \u001b[0m│\u001b[90m Int64?  \u001b[0m\u001b[90m String? \u001b[0m\u001b[90m String?                   \u001b[0m\u001b[90m String  \u001b[0m\u001b[90m String           \u001b[0m ⋯\n",
       "─────┼──────────────────────────────────────────────────────────────────────────\n",
       "   1 │\u001b[90m missing \u001b[0m\u001b[90m missing \u001b[0m French Guiana              France   2021-01-11 05:21: ⋯\n",
       "   2 │\u001b[90m missing \u001b[0m\u001b[90m missing \u001b[0m French Polynesia           France   2021-01-11 05:21:\n",
       "   3 │\u001b[90m missing \u001b[0m\u001b[90m missing \u001b[0m Guadeloupe                 France   2021-01-11 05:21:\n",
       "   4 │\u001b[90m missing \u001b[0m\u001b[90m missing \u001b[0m Martinique                 France   2021-01-11 05:21:\n",
       "   5 │\u001b[90m missing \u001b[0m\u001b[90m missing \u001b[0m Mayotte                    France   2021-01-11 05:21: ⋯\n",
       "   6 │\u001b[90m missing \u001b[0m\u001b[90m missing \u001b[0m New Caledonia              France   2021-01-11 05:21:\n",
       "   7 │\u001b[90m missing \u001b[0m\u001b[90m missing \u001b[0m Reunion                    France   2021-01-11 05:21:\n",
       "   8 │\u001b[90m missing \u001b[0m\u001b[90m missing \u001b[0m Saint Barthelemy           France   2021-01-11 05:21:\n",
       "   9 │\u001b[90m missing \u001b[0m\u001b[90m missing \u001b[0m Saint Pierre and Miquelon  France   2021-01-11 05:21: ⋯\n",
       "  10 │\u001b[90m missing \u001b[0m\u001b[90m missing \u001b[0m St Martin                  France   2021-01-11 05:21:\n",
       "  11 │\u001b[90m missing \u001b[0m\u001b[90m missing \u001b[0m Wallis and Futuna          France   2021-01-11 05:21:\n",
       "  12 │\u001b[90m missing \u001b[0m\u001b[90m missing \u001b[0m\u001b[90m missing                   \u001b[0m France   2021-01-11 05:21:\n",
       "\u001b[31m                                                              10 columns omitted\u001b[0m"
      ]
     },
     "execution_count": 5,
     "metadata": {},
     "output_type": "execute_result"
    }
   ],
   "source": [
    "df_france = df[df.country .== \"France\", :]"
   ]
  },
  {
   "cell_type": "code",
   "execution_count": 18,
   "metadata": {},
   "outputs": [
    {
     "data": {
      "text/html": [
       "<table class=\"data-frame\"><thead><tr><th></th><th>FIPS</th><th>Admin2</th><th>province</th><th>country</th><th>fecha</th><th>Last_Update</th></tr><tr><th></th><th>Int64?</th><th>String?</th><th>String?</th><th>String</th><th>Date</th><th>String</th></tr></thead><tbody><p>20 rows × 15 columns (omitted printing of 9 columns)</p><tr><th>1</th><td><em>missing</em></td><td><em>missing</em></td><td>Andalusia</td><td>Spain</td><td>2020-12-31</td><td>2021-01-11 05:21:50</td></tr><tr><th>2</th><td><em>missing</em></td><td><em>missing</em></td><td>Aragon</td><td>Spain</td><td>2020-12-31</td><td>2021-01-11 05:21:50</td></tr><tr><th>3</th><td><em>missing</em></td><td><em>missing</em></td><td>Asturias</td><td>Spain</td><td>2020-12-31</td><td>2021-01-11 05:21:50</td></tr><tr><th>4</th><td><em>missing</em></td><td><em>missing</em></td><td>Baleares</td><td>Spain</td><td>2020-12-31</td><td>2021-01-11 05:21:50</td></tr><tr><th>5</th><td><em>missing</em></td><td><em>missing</em></td><td>C. Valenciana</td><td>Spain</td><td>2020-12-31</td><td>2021-01-11 05:21:50</td></tr><tr><th>6</th><td><em>missing</em></td><td><em>missing</em></td><td>Canarias</td><td>Spain</td><td>2020-12-31</td><td>2021-01-11 05:21:50</td></tr><tr><th>7</th><td><em>missing</em></td><td><em>missing</em></td><td>Cantabria</td><td>Spain</td><td>2020-12-31</td><td>2021-01-11 05:21:50</td></tr><tr><th>8</th><td><em>missing</em></td><td><em>missing</em></td><td>Castilla - La Mancha</td><td>Spain</td><td>2020-12-31</td><td>2021-01-11 05:21:50</td></tr><tr><th>9</th><td><em>missing</em></td><td><em>missing</em></td><td>Castilla y Leon</td><td>Spain</td><td>2020-12-31</td><td>2021-01-11 05:21:50</td></tr><tr><th>10</th><td><em>missing</em></td><td><em>missing</em></td><td>Catalonia</td><td>Spain</td><td>2020-12-31</td><td>2021-01-11 05:21:50</td></tr><tr><th>11</th><td><em>missing</em></td><td><em>missing</em></td><td>Ceuta</td><td>Spain</td><td>2020-12-31</td><td>2021-01-11 05:21:50</td></tr><tr><th>12</th><td><em>missing</em></td><td><em>missing</em></td><td>Extremadura</td><td>Spain</td><td>2020-12-31</td><td>2021-01-11 05:21:50</td></tr><tr><th>13</th><td><em>missing</em></td><td><em>missing</em></td><td>Galicia</td><td>Spain</td><td>2020-12-31</td><td>2021-01-11 05:21:50</td></tr><tr><th>14</th><td><em>missing</em></td><td><em>missing</em></td><td>La Rioja</td><td>Spain</td><td>2020-12-31</td><td>2021-01-11 05:21:50</td></tr><tr><th>15</th><td><em>missing</em></td><td><em>missing</em></td><td>Madrid</td><td>Spain</td><td>2020-12-31</td><td>2021-01-11 05:21:50</td></tr><tr><th>16</th><td><em>missing</em></td><td><em>missing</em></td><td>Melilla</td><td>Spain</td><td>2020-12-31</td><td>2021-01-11 05:21:50</td></tr><tr><th>17</th><td><em>missing</em></td><td><em>missing</em></td><td>Murcia</td><td>Spain</td><td>2020-12-31</td><td>2021-01-11 05:21:50</td></tr><tr><th>18</th><td><em>missing</em></td><td><em>missing</em></td><td>Navarra</td><td>Spain</td><td>2020-12-31</td><td>2021-01-11 05:21:50</td></tr><tr><th>19</th><td><em>missing</em></td><td><em>missing</em></td><td>Pais Vasco</td><td>Spain</td><td>2020-12-31</td><td>2021-01-11 05:21:50</td></tr><tr><th>20</th><td><em>missing</em></td><td><em>missing</em></td><td>Unknown</td><td>Spain</td><td>2020-12-31</td><td>2021-01-11 05:21:50</td></tr></tbody></table>"
      ],
      "text/latex": [
       "\\begin{tabular}{r|ccccccc}\n",
       "\t& FIPS & Admin2 & province & country & fecha & Last\\_Update & \\\\\n",
       "\t\\hline\n",
       "\t& Int64? & String? & String? & String & Date & String & \\\\\n",
       "\t\\hline\n",
       "\t1 & \\emph{missing} & \\emph{missing} & Andalusia & Spain & 2020-12-31 & 2021-01-11 05:21:50 & $\\dots$ \\\\\n",
       "\t2 & \\emph{missing} & \\emph{missing} & Aragon & Spain & 2020-12-31 & 2021-01-11 05:21:50 & $\\dots$ \\\\\n",
       "\t3 & \\emph{missing} & \\emph{missing} & Asturias & Spain & 2020-12-31 & 2021-01-11 05:21:50 & $\\dots$ \\\\\n",
       "\t4 & \\emph{missing} & \\emph{missing} & Baleares & Spain & 2020-12-31 & 2021-01-11 05:21:50 & $\\dots$ \\\\\n",
       "\t5 & \\emph{missing} & \\emph{missing} & C. Valenciana & Spain & 2020-12-31 & 2021-01-11 05:21:50 & $\\dots$ \\\\\n",
       "\t6 & \\emph{missing} & \\emph{missing} & Canarias & Spain & 2020-12-31 & 2021-01-11 05:21:50 & $\\dots$ \\\\\n",
       "\t7 & \\emph{missing} & \\emph{missing} & Cantabria & Spain & 2020-12-31 & 2021-01-11 05:21:50 & $\\dots$ \\\\\n",
       "\t8 & \\emph{missing} & \\emph{missing} & Castilla - La Mancha & Spain & 2020-12-31 & 2021-01-11 05:21:50 & $\\dots$ \\\\\n",
       "\t9 & \\emph{missing} & \\emph{missing} & Castilla y Leon & Spain & 2020-12-31 & 2021-01-11 05:21:50 & $\\dots$ \\\\\n",
       "\t10 & \\emph{missing} & \\emph{missing} & Catalonia & Spain & 2020-12-31 & 2021-01-11 05:21:50 & $\\dots$ \\\\\n",
       "\t11 & \\emph{missing} & \\emph{missing} & Ceuta & Spain & 2020-12-31 & 2021-01-11 05:21:50 & $\\dots$ \\\\\n",
       "\t12 & \\emph{missing} & \\emph{missing} & Extremadura & Spain & 2020-12-31 & 2021-01-11 05:21:50 & $\\dots$ \\\\\n",
       "\t13 & \\emph{missing} & \\emph{missing} & Galicia & Spain & 2020-12-31 & 2021-01-11 05:21:50 & $\\dots$ \\\\\n",
       "\t14 & \\emph{missing} & \\emph{missing} & La Rioja & Spain & 2020-12-31 & 2021-01-11 05:21:50 & $\\dots$ \\\\\n",
       "\t15 & \\emph{missing} & \\emph{missing} & Madrid & Spain & 2020-12-31 & 2021-01-11 05:21:50 & $\\dots$ \\\\\n",
       "\t16 & \\emph{missing} & \\emph{missing} & Melilla & Spain & 2020-12-31 & 2021-01-11 05:21:50 & $\\dots$ \\\\\n",
       "\t17 & \\emph{missing} & \\emph{missing} & Murcia & Spain & 2020-12-31 & 2021-01-11 05:21:50 & $\\dots$ \\\\\n",
       "\t18 & \\emph{missing} & \\emph{missing} & Navarra & Spain & 2020-12-31 & 2021-01-11 05:21:50 & $\\dots$ \\\\\n",
       "\t19 & \\emph{missing} & \\emph{missing} & Pais Vasco & Spain & 2020-12-31 & 2021-01-11 05:21:50 & $\\dots$ \\\\\n",
       "\t20 & \\emph{missing} & \\emph{missing} & Unknown & Spain & 2020-12-31 & 2021-01-11 05:21:50 & $\\dots$ \\\\\n",
       "\\end{tabular}\n"
      ],
      "text/plain": [
       "\u001b[1m20×15 DataFrame\u001b[0m\n",
       "\u001b[1m Row \u001b[0m│\u001b[1m FIPS    \u001b[0m\u001b[1m Admin2  \u001b[0m\u001b[1m province             \u001b[0m\u001b[1m country \u001b[0m\u001b[1m fecha      \u001b[0m\u001b[1m Last_Updat\u001b[0m ⋯\n",
       "\u001b[1m     \u001b[0m│\u001b[90m Int64?  \u001b[0m\u001b[90m String? \u001b[0m\u001b[90m String?              \u001b[0m\u001b[90m String  \u001b[0m\u001b[90m Date       \u001b[0m\u001b[90m String    \u001b[0m ⋯\n",
       "─────┼──────────────────────────────────────────────────────────────────────────\n",
       "   1 │\u001b[90m missing \u001b[0m\u001b[90m missing \u001b[0m Andalusia             Spain    2020-12-31  2021-01-11 ⋯\n",
       "   2 │\u001b[90m missing \u001b[0m\u001b[90m missing \u001b[0m Aragon                Spain    2020-12-31  2021-01-11\n",
       "   3 │\u001b[90m missing \u001b[0m\u001b[90m missing \u001b[0m Asturias              Spain    2020-12-31  2021-01-11\n",
       "   4 │\u001b[90m missing \u001b[0m\u001b[90m missing \u001b[0m Baleares              Spain    2020-12-31  2021-01-11\n",
       "   5 │\u001b[90m missing \u001b[0m\u001b[90m missing \u001b[0m C. Valenciana         Spain    2020-12-31  2021-01-11 ⋯\n",
       "   6 │\u001b[90m missing \u001b[0m\u001b[90m missing \u001b[0m Canarias              Spain    2020-12-31  2021-01-11\n",
       "   7 │\u001b[90m missing \u001b[0m\u001b[90m missing \u001b[0m Cantabria             Spain    2020-12-31  2021-01-11\n",
       "   8 │\u001b[90m missing \u001b[0m\u001b[90m missing \u001b[0m Castilla - La Mancha  Spain    2020-12-31  2021-01-11\n",
       "   9 │\u001b[90m missing \u001b[0m\u001b[90m missing \u001b[0m Castilla y Leon       Spain    2020-12-31  2021-01-11 ⋯\n",
       "  10 │\u001b[90m missing \u001b[0m\u001b[90m missing \u001b[0m Catalonia             Spain    2020-12-31  2021-01-11\n",
       "  11 │\u001b[90m missing \u001b[0m\u001b[90m missing \u001b[0m Ceuta                 Spain    2020-12-31  2021-01-11\n",
       "  12 │\u001b[90m missing \u001b[0m\u001b[90m missing \u001b[0m Extremadura           Spain    2020-12-31  2021-01-11\n",
       "  13 │\u001b[90m missing \u001b[0m\u001b[90m missing \u001b[0m Galicia               Spain    2020-12-31  2021-01-11 ⋯\n",
       "  14 │\u001b[90m missing \u001b[0m\u001b[90m missing \u001b[0m La Rioja              Spain    2020-12-31  2021-01-11\n",
       "  15 │\u001b[90m missing \u001b[0m\u001b[90m missing \u001b[0m Madrid                Spain    2020-12-31  2021-01-11\n",
       "  16 │\u001b[90m missing \u001b[0m\u001b[90m missing \u001b[0m Melilla               Spain    2020-12-31  2021-01-11\n",
       "  17 │\u001b[90m missing \u001b[0m\u001b[90m missing \u001b[0m Murcia                Spain    2020-12-31  2021-01-11 ⋯\n",
       "  18 │\u001b[90m missing \u001b[0m\u001b[90m missing \u001b[0m Navarra               Spain    2020-12-31  2021-01-11\n",
       "  19 │\u001b[90m missing \u001b[0m\u001b[90m missing \u001b[0m Pais Vasco            Spain    2020-12-31  2021-01-11\n",
       "  20 │\u001b[90m missing \u001b[0m\u001b[90m missing \u001b[0m Unknown               Spain    2020-12-31  2021-01-11\n",
       "\u001b[31m                                                              10 columns omitted\u001b[0m"
      ]
     },
     "execution_count": 18,
     "metadata": {},
     "output_type": "execute_result"
    }
   ],
   "source": [
    "df_spain = df[df.country .== \"Spain\", :]\n",
    "insertcols!(df_spain, 5, :fecha .=> Date(\"2020-12-31\"))"
   ]
  },
  {
   "cell_type": "code",
   "execution_count": 7,
   "metadata": {},
   "outputs": [
    {
     "data": {
      "text/plain": [
       "2021-01-11"
      ]
     },
     "execution_count": 7,
     "metadata": {},
     "output_type": "execute_result"
    }
   ],
   "source": [
    "Date(sssplit(\"2021-01-11 05:21:50\", \" \")[1])"
   ]
  },
  {
   "cell_type": "code",
   "execution_count": 8,
   "metadata": {},
   "outputs": [
    {
     "ename": "LoadError",
     "evalue": "ArgumentError: column name :fecha not found in the data frame",
     "output_type": "error",
     "traceback": [
      "ArgumentError: column name :fecha not found in the data frame",
      "",
      "Stacktrace:",
      " [1] lookupname at /Users/development/.julia/packages/DataFrames/yqToF/src/other/index.jl:288 [inlined]",
      " [2] getindex at /Users/development/.julia/packages/DataFrames/yqToF/src/other/index.jl:297 [inlined]",
      " [3] parentcols at /Users/development/.julia/packages/DataFrames/yqToF/src/other/index.jl:344 [inlined]",
      " [4] setindex! at /Users/development/.julia/packages/DataFrames/yqToF/src/dataframerow/dataframerow.jl:261 [inlined]",
      " [5] setproperty!(::DataFrameRow{DataFrame,DataFrames.Index}, ::Symbol, ::Date) at /Users/development/.julia/packages/DataFrames/yqToF/src/dataframerow/dataframerow.jl:297",
      " [6] (::var\"#1#2\")(::DataFrameRow{DataFrame,DataFrames.Index}) at ./In[8]:2",
      " [7] iterate at ./generator.jl:47 [inlined]",
      " [8] _collect(::DataFrames.DataFrameRows{DataFrame,DataFrames.Index}, ::Base.Generator{DataFrames.DataFrameRows{DataFrame,DataFrames.Index},var\"#1#2\"}, ::Base.EltypeUnknown, ::Base.HasShape{1}) at ./array.jl:699",
      " [9] collect_similar(::DataFrames.DataFrameRows{DataFrame,DataFrames.Index}, ::Base.Generator{DataFrames.DataFrameRows{DataFrame,DataFrames.Index},var\"#1#2\"}) at ./array.jl:628",
      " [10] map(::Function, ::DataFrames.DataFrameRows{DataFrame,DataFrames.Index}) at ./abstractarray.jl:2162",
      " [11] top-level scope at In[8]:1",
      " [12] include_string(::Function, ::Module, ::String, ::String) at ./loading.jl:1091"
     ]
    }
   ],
   "source": [
    "df_spain.fecha = collect(map(eachrow(df_spain)) do row\n",
    "    row.fecha = Date(split(row.Last_Update, \" \")[1])\n",
    "    end)"
   ]
  },
  {
   "cell_type": "code",
   "execution_count": 9,
   "metadata": {},
   "outputs": [
    {
     "data": {
      "text/html": [
       "<table class=\"data-frame\"><thead><tr><th></th><th>FIPS</th><th>Admin2</th><th>province</th><th>country</th><th>Last_Update</th><th>Lat</th></tr><tr><th></th><th>Int64?</th><th>String?</th><th>String?</th><th>String</th><th>String</th><th>Float64?</th></tr></thead><tbody><p>20 rows × 14 columns (omitted printing of 8 columns)</p><tr><th>1</th><td><em>missing</em></td><td><em>missing</em></td><td>Andalusia</td><td>Spain</td><td>2021-01-11 05:21:50</td><td>37.5443</td></tr><tr><th>2</th><td><em>missing</em></td><td><em>missing</em></td><td>Aragon</td><td>Spain</td><td>2021-01-11 05:21:50</td><td>41.5976</td></tr><tr><th>3</th><td><em>missing</em></td><td><em>missing</em></td><td>Asturias</td><td>Spain</td><td>2021-01-11 05:21:50</td><td>43.3614</td></tr><tr><th>4</th><td><em>missing</em></td><td><em>missing</em></td><td>Baleares</td><td>Spain</td><td>2021-01-11 05:21:50</td><td>39.7104</td></tr><tr><th>5</th><td><em>missing</em></td><td><em>missing</em></td><td>C. Valenciana</td><td>Spain</td><td>2021-01-11 05:21:50</td><td>39.484</td></tr><tr><th>6</th><td><em>missing</em></td><td><em>missing</em></td><td>Canarias</td><td>Spain</td><td>2021-01-11 05:21:50</td><td>28.2916</td></tr><tr><th>7</th><td><em>missing</em></td><td><em>missing</em></td><td>Cantabria</td><td>Spain</td><td>2021-01-11 05:21:50</td><td>43.1828</td></tr><tr><th>8</th><td><em>missing</em></td><td><em>missing</em></td><td>Castilla - La Mancha</td><td>Spain</td><td>2021-01-11 05:21:50</td><td>39.2796</td></tr><tr><th>9</th><td><em>missing</em></td><td><em>missing</em></td><td>Castilla y Leon</td><td>Spain</td><td>2021-01-11 05:21:50</td><td>41.8357</td></tr><tr><th>10</th><td><em>missing</em></td><td><em>missing</em></td><td>Catalonia</td><td>Spain</td><td>2021-01-11 05:21:50</td><td>41.5912</td></tr><tr><th>11</th><td><em>missing</em></td><td><em>missing</em></td><td>Ceuta</td><td>Spain</td><td>2021-01-11 05:21:50</td><td>35.8894</td></tr><tr><th>12</th><td><em>missing</em></td><td><em>missing</em></td><td>Extremadura</td><td>Spain</td><td>2021-01-11 05:21:50</td><td>39.4937</td></tr><tr><th>13</th><td><em>missing</em></td><td><em>missing</em></td><td>Galicia</td><td>Spain</td><td>2021-01-11 05:21:50</td><td>42.5751</td></tr><tr><th>14</th><td><em>missing</em></td><td><em>missing</em></td><td>La Rioja</td><td>Spain</td><td>2021-01-11 05:21:50</td><td>42.2871</td></tr><tr><th>15</th><td><em>missing</em></td><td><em>missing</em></td><td>Madrid</td><td>Spain</td><td>2021-01-11 05:21:50</td><td>40.4168</td></tr><tr><th>16</th><td><em>missing</em></td><td><em>missing</em></td><td>Melilla</td><td>Spain</td><td>2021-01-11 05:21:50</td><td>35.2923</td></tr><tr><th>17</th><td><em>missing</em></td><td><em>missing</em></td><td>Murcia</td><td>Spain</td><td>2021-01-11 05:21:50</td><td>37.9922</td></tr><tr><th>18</th><td><em>missing</em></td><td><em>missing</em></td><td>Navarra</td><td>Spain</td><td>2021-01-11 05:21:50</td><td>42.6954</td></tr><tr><th>19</th><td><em>missing</em></td><td><em>missing</em></td><td>Pais Vasco</td><td>Spain</td><td>2021-01-11 05:21:50</td><td>42.9896</td></tr><tr><th>20</th><td><em>missing</em></td><td><em>missing</em></td><td>Unknown</td><td>Spain</td><td>2021-01-11 05:21:50</td><td><em>missing</em></td></tr></tbody></table>"
      ],
      "text/latex": [
       "\\begin{tabular}{r|ccccccc}\n",
       "\t& FIPS & Admin2 & province & country & Last\\_Update & Lat & \\\\\n",
       "\t\\hline\n",
       "\t& Int64? & String? & String? & String & String & Float64? & \\\\\n",
       "\t\\hline\n",
       "\t1 & \\emph{missing} & \\emph{missing} & Andalusia & Spain & 2021-01-11 05:21:50 & 37.5443 & $\\dots$ \\\\\n",
       "\t2 & \\emph{missing} & \\emph{missing} & Aragon & Spain & 2021-01-11 05:21:50 & 41.5976 & $\\dots$ \\\\\n",
       "\t3 & \\emph{missing} & \\emph{missing} & Asturias & Spain & 2021-01-11 05:21:50 & 43.3614 & $\\dots$ \\\\\n",
       "\t4 & \\emph{missing} & \\emph{missing} & Baleares & Spain & 2021-01-11 05:21:50 & 39.7104 & $\\dots$ \\\\\n",
       "\t5 & \\emph{missing} & \\emph{missing} & C. Valenciana & Spain & 2021-01-11 05:21:50 & 39.484 & $\\dots$ \\\\\n",
       "\t6 & \\emph{missing} & \\emph{missing} & Canarias & Spain & 2021-01-11 05:21:50 & 28.2916 & $\\dots$ \\\\\n",
       "\t7 & \\emph{missing} & \\emph{missing} & Cantabria & Spain & 2021-01-11 05:21:50 & 43.1828 & $\\dots$ \\\\\n",
       "\t8 & \\emph{missing} & \\emph{missing} & Castilla - La Mancha & Spain & 2021-01-11 05:21:50 & 39.2796 & $\\dots$ \\\\\n",
       "\t9 & \\emph{missing} & \\emph{missing} & Castilla y Leon & Spain & 2021-01-11 05:21:50 & 41.8357 & $\\dots$ \\\\\n",
       "\t10 & \\emph{missing} & \\emph{missing} & Catalonia & Spain & 2021-01-11 05:21:50 & 41.5912 & $\\dots$ \\\\\n",
       "\t11 & \\emph{missing} & \\emph{missing} & Ceuta & Spain & 2021-01-11 05:21:50 & 35.8894 & $\\dots$ \\\\\n",
       "\t12 & \\emph{missing} & \\emph{missing} & Extremadura & Spain & 2021-01-11 05:21:50 & 39.4937 & $\\dots$ \\\\\n",
       "\t13 & \\emph{missing} & \\emph{missing} & Galicia & Spain & 2021-01-11 05:21:50 & 42.5751 & $\\dots$ \\\\\n",
       "\t14 & \\emph{missing} & \\emph{missing} & La Rioja & Spain & 2021-01-11 05:21:50 & 42.2871 & $\\dots$ \\\\\n",
       "\t15 & \\emph{missing} & \\emph{missing} & Madrid & Spain & 2021-01-11 05:21:50 & 40.4168 & $\\dots$ \\\\\n",
       "\t16 & \\emph{missing} & \\emph{missing} & Melilla & Spain & 2021-01-11 05:21:50 & 35.2923 & $\\dots$ \\\\\n",
       "\t17 & \\emph{missing} & \\emph{missing} & Murcia & Spain & 2021-01-11 05:21:50 & 37.9922 & $\\dots$ \\\\\n",
       "\t18 & \\emph{missing} & \\emph{missing} & Navarra & Spain & 2021-01-11 05:21:50 & 42.6954 & $\\dots$ \\\\\n",
       "\t19 & \\emph{missing} & \\emph{missing} & Pais Vasco & Spain & 2021-01-11 05:21:50 & 42.9896 & $\\dots$ \\\\\n",
       "\t20 & \\emph{missing} & \\emph{missing} & Unknown & Spain & 2021-01-11 05:21:50 & \\emph{missing} & $\\dots$ \\\\\n",
       "\\end{tabular}\n"
      ],
      "text/plain": [
       "\u001b[1m20×14 DataFrame\u001b[0m\n",
       "\u001b[1m Row \u001b[0m│\u001b[1m FIPS    \u001b[0m\u001b[1m Admin2  \u001b[0m\u001b[1m province             \u001b[0m\u001b[1m country \u001b[0m\u001b[1m Last_Update         \u001b[0m\u001b[1m L\u001b[0m ⋯\n",
       "\u001b[1m     \u001b[0m│\u001b[90m Int64?  \u001b[0m\u001b[90m String? \u001b[0m\u001b[90m String?              \u001b[0m\u001b[90m String  \u001b[0m\u001b[90m String              \u001b[0m\u001b[90m F\u001b[0m ⋯\n",
       "─────┼──────────────────────────────────────────────────────────────────────────\n",
       "   1 │\u001b[90m missing \u001b[0m\u001b[90m missing \u001b[0m Andalusia             Spain    2021-01-11 05:21:50    ⋯\n",
       "   2 │\u001b[90m missing \u001b[0m\u001b[90m missing \u001b[0m Aragon                Spain    2021-01-11 05:21:50\n",
       "   3 │\u001b[90m missing \u001b[0m\u001b[90m missing \u001b[0m Asturias              Spain    2021-01-11 05:21:50\n",
       "   4 │\u001b[90m missing \u001b[0m\u001b[90m missing \u001b[0m Baleares              Spain    2021-01-11 05:21:50\n",
       "   5 │\u001b[90m missing \u001b[0m\u001b[90m missing \u001b[0m C. Valenciana         Spain    2021-01-11 05:21:50    ⋯\n",
       "   6 │\u001b[90m missing \u001b[0m\u001b[90m missing \u001b[0m Canarias              Spain    2021-01-11 05:21:50\n",
       "   7 │\u001b[90m missing \u001b[0m\u001b[90m missing \u001b[0m Cantabria             Spain    2021-01-11 05:21:50\n",
       "   8 │\u001b[90m missing \u001b[0m\u001b[90m missing \u001b[0m Castilla - La Mancha  Spain    2021-01-11 05:21:50\n",
       "   9 │\u001b[90m missing \u001b[0m\u001b[90m missing \u001b[0m Castilla y Leon       Spain    2021-01-11 05:21:50    ⋯\n",
       "  10 │\u001b[90m missing \u001b[0m\u001b[90m missing \u001b[0m Catalonia             Spain    2021-01-11 05:21:50\n",
       "  11 │\u001b[90m missing \u001b[0m\u001b[90m missing \u001b[0m Ceuta                 Spain    2021-01-11 05:21:50\n",
       "  12 │\u001b[90m missing \u001b[0m\u001b[90m missing \u001b[0m Extremadura           Spain    2021-01-11 05:21:50\n",
       "  13 │\u001b[90m missing \u001b[0m\u001b[90m missing \u001b[0m Galicia               Spain    2021-01-11 05:21:50    ⋯\n",
       "  14 │\u001b[90m missing \u001b[0m\u001b[90m missing \u001b[0m La Rioja              Spain    2021-01-11 05:21:50\n",
       "  15 │\u001b[90m missing \u001b[0m\u001b[90m missing \u001b[0m Madrid                Spain    2021-01-11 05:21:50\n",
       "  16 │\u001b[90m missing \u001b[0m\u001b[90m missing \u001b[0m Melilla               Spain    2021-01-11 05:21:50\n",
       "  17 │\u001b[90m missing \u001b[0m\u001b[90m missing \u001b[0m Murcia                Spain    2021-01-11 05:21:50    ⋯\n",
       "  18 │\u001b[90m missing \u001b[0m\u001b[90m missing \u001b[0m Navarra               Spain    2021-01-11 05:21:50\n",
       "  19 │\u001b[90m missing \u001b[0m\u001b[90m missing \u001b[0m Pais Vasco            Spain    2021-01-11 05:21:50\n",
       "  20 │\u001b[90m missing \u001b[0m\u001b[90m missing \u001b[0m Unknown               Spain    2021-01-11 05:21:50 \u001b[90m m\u001b[0m\n",
       "\u001b[31m                                                               9 columns omitted\u001b[0m"
      ]
     },
     "execution_count": 9,
     "metadata": {},
     "output_type": "execute_result"
    }
   ],
   "source": [
    "df_spain"
   ]
  },
  {
   "cell_type": "code",
   "execution_count": 10,
   "metadata": {},
   "outputs": [
    {
     "data": {
      "text/html": [
       "<table class=\"data-frame\"><thead><tr><th></th><th>province</th><th>country</th><th>Confirmed</th><th>Deaths</th><th>Recovered</th><th>Active</th><th>Incident_Rate</th></tr><tr><th></th><th>String?</th><th>String</th><th>Int64</th><th>Int64</th><th>Int64</th><th>Int64?</th><th>Float64?</th></tr></thead><tbody><p>20 rows × 8 columns (omitted printing of 1 columns)</p><tr><th>1</th><td>Andalusia</td><td>Spain</td><td>276669</td><td>5251</td><td>10671</td><td>260747</td><td>3282.97</td></tr><tr><th>2</th><td>Aragon</td><td>Spain</td><td>82696</td><td>2683</td><td>3772</td><td>76241</td><td>6262.07</td></tr><tr><th>3</th><td>Asturias</td><td>Spain</td><td>28196</td><td>1376</td><td>1063</td><td>25757</td><td>2758.35</td></tr><tr><th>4</th><td>Baleares</td><td>Spain</td><td>39586</td><td>482</td><td>1533</td><td>37571</td><td>3331.54</td></tr><tr><th>5</th><td>C. Valenciana</td><td>Spain</td><td>164156</td><td>3163</td><td>9970</td><td>151023</td><td>3299.64</td></tr><tr><th>6</th><td>Canarias</td><td>Spain</td><td>28827</td><td>447</td><td>1537</td><td>26843</td><td>1306.22</td></tr><tr><th>7</th><td>Cantabria</td><td>Spain</td><td>18905</td><td>402</td><td>2287</td><td>16216</td><td>3250.29</td></tr><tr><th>8</th><td>Castilla - La Mancha</td><td>Spain</td><td>107656</td><td>4117</td><td>6392</td><td>97147</td><td>5290.54</td></tr><tr><th>9</th><td>Castilla y Leon</td><td>Spain</td><td>138681</td><td>5143</td><td>8716</td><td>124822</td><td>5759.82</td></tr><tr><th>10</th><td>Catalonia</td><td>Spain</td><td>386595</td><td>8828</td><td>26203</td><td>351564</td><td>5109.34</td></tr><tr><th>11</th><td>Ceuta</td><td>Spain</td><td>3225</td><td>62</td><td>163</td><td>3000</td><td>3801.77</td></tr><tr><th>12</th><td>Extremadura</td><td>Spain</td><td>43028</td><td>1111</td><td>2652</td><td>39265</td><td>4038.58</td></tr><tr><th>13</th><td>Galicia</td><td>Spain</td><td>65479</td><td>1420</td><td>9204</td><td>54855</td><td>2424.75</td></tr><tr><th>14</th><td>La Rioja</td><td>Spain</td><td>19326</td><td>594</td><td>3107</td><td>15625</td><td>6163.2</td></tr><tr><th>15</th><td>Madrid</td><td>Spain</td><td>421295</td><td>11971</td><td>40736</td><td>368588</td><td>6343.23</td></tr><tr><th>16</th><td>Melilla</td><td>Spain</td><td>4728</td><td>44</td><td>125</td><td>4559</td><td>5582.78</td></tr><tr><th>17</th><td>Murcia</td><td>Spain</td><td>63380</td><td>769</td><td>2180</td><td>60431</td><td>4260.37</td></tr><tr><th>18</th><td>Navarra</td><td>Spain</td><td>43542</td><td>973</td><td>3905</td><td>38664</td><td>6699.33</td></tr><tr><th>19</th><td>Pais Vasco</td><td>Spain</td><td>114390</td><td>3038</td><td>16160</td><td>95192</td><td>5252.36</td></tr><tr><th>20</th><td>Unknown</td><td>Spain</td><td>0</td><td>0</td><td>0</td><td>0</td><td><em>missing</em></td></tr></tbody></table>"
      ],
      "text/latex": [
       "\\begin{tabular}{r|cccccccc}\n",
       "\t& province & country & Confirmed & Deaths & Recovered & Active & Incident\\_Rate & \\\\\n",
       "\t\\hline\n",
       "\t& String? & String & Int64 & Int64 & Int64 & Int64? & Float64? & \\\\\n",
       "\t\\hline\n",
       "\t1 & Andalusia & Spain & 276669 & 5251 & 10671 & 260747 & 3282.97 & $\\dots$ \\\\\n",
       "\t2 & Aragon & Spain & 82696 & 2683 & 3772 & 76241 & 6262.07 & $\\dots$ \\\\\n",
       "\t3 & Asturias & Spain & 28196 & 1376 & 1063 & 25757 & 2758.35 & $\\dots$ \\\\\n",
       "\t4 & Baleares & Spain & 39586 & 482 & 1533 & 37571 & 3331.54 & $\\dots$ \\\\\n",
       "\t5 & C. Valenciana & Spain & 164156 & 3163 & 9970 & 151023 & 3299.64 & $\\dots$ \\\\\n",
       "\t6 & Canarias & Spain & 28827 & 447 & 1537 & 26843 & 1306.22 & $\\dots$ \\\\\n",
       "\t7 & Cantabria & Spain & 18905 & 402 & 2287 & 16216 & 3250.29 & $\\dots$ \\\\\n",
       "\t8 & Castilla - La Mancha & Spain & 107656 & 4117 & 6392 & 97147 & 5290.54 & $\\dots$ \\\\\n",
       "\t9 & Castilla y Leon & Spain & 138681 & 5143 & 8716 & 124822 & 5759.82 & $\\dots$ \\\\\n",
       "\t10 & Catalonia & Spain & 386595 & 8828 & 26203 & 351564 & 5109.34 & $\\dots$ \\\\\n",
       "\t11 & Ceuta & Spain & 3225 & 62 & 163 & 3000 & 3801.77 & $\\dots$ \\\\\n",
       "\t12 & Extremadura & Spain & 43028 & 1111 & 2652 & 39265 & 4038.58 & $\\dots$ \\\\\n",
       "\t13 & Galicia & Spain & 65479 & 1420 & 9204 & 54855 & 2424.75 & $\\dots$ \\\\\n",
       "\t14 & La Rioja & Spain & 19326 & 594 & 3107 & 15625 & 6163.2 & $\\dots$ \\\\\n",
       "\t15 & Madrid & Spain & 421295 & 11971 & 40736 & 368588 & 6343.23 & $\\dots$ \\\\\n",
       "\t16 & Melilla & Spain & 4728 & 44 & 125 & 4559 & 5582.78 & $\\dots$ \\\\\n",
       "\t17 & Murcia & Spain & 63380 & 769 & 2180 & 60431 & 4260.37 & $\\dots$ \\\\\n",
       "\t18 & Navarra & Spain & 43542 & 973 & 3905 & 38664 & 6699.33 & $\\dots$ \\\\\n",
       "\t19 & Pais Vasco & Spain & 114390 & 3038 & 16160 & 95192 & 5252.36 & $\\dots$ \\\\\n",
       "\t20 & Unknown & Spain & 0 & 0 & 0 & 0 & \\emph{missing} & $\\dots$ \\\\\n",
       "\\end{tabular}\n"
      ],
      "text/plain": [
       "\u001b[1m20×8 DataFrame\u001b[0m\n",
       "\u001b[1m Row \u001b[0m│\u001b[1m province             \u001b[0m\u001b[1m country \u001b[0m\u001b[1m Confirmed \u001b[0m\u001b[1m Deaths \u001b[0m\u001b[1m Recovered \u001b[0m\u001b[1m Active \u001b[0m\u001b[1m In\u001b[0m ⋯\n",
       "\u001b[1m     \u001b[0m│\u001b[90m String?              \u001b[0m\u001b[90m String  \u001b[0m\u001b[90m Int64     \u001b[0m\u001b[90m Int64  \u001b[0m\u001b[90m Int64     \u001b[0m\u001b[90m Int64? \u001b[0m\u001b[90m Fl\u001b[0m ⋯\n",
       "─────┼──────────────────────────────────────────────────────────────────────────\n",
       "   1 │ Andalusia             Spain       276669    5251      10671  260747     ⋯\n",
       "   2 │ Aragon                Spain        82696    2683       3772   76241\n",
       "   3 │ Asturias              Spain        28196    1376       1063   25757\n",
       "   4 │ Baleares              Spain        39586     482       1533   37571\n",
       "   5 │ C. Valenciana         Spain       164156    3163       9970  151023     ⋯\n",
       "   6 │ Canarias              Spain        28827     447       1537   26843\n",
       "   7 │ Cantabria             Spain        18905     402       2287   16216\n",
       "   8 │ Castilla - La Mancha  Spain       107656    4117       6392   97147\n",
       "   9 │ Castilla y Leon       Spain       138681    5143       8716  124822     ⋯\n",
       "  10 │ Catalonia             Spain       386595    8828      26203  351564\n",
       "  11 │ Ceuta                 Spain         3225      62        163    3000\n",
       "  12 │ Extremadura           Spain        43028    1111       2652   39265\n",
       "  13 │ Galicia               Spain        65479    1420       9204   54855     ⋯\n",
       "  14 │ La Rioja              Spain        19326     594       3107   15625\n",
       "  15 │ Madrid                Spain       421295   11971      40736  368588\n",
       "  16 │ Melilla               Spain         4728      44        125    4559\n",
       "  17 │ Murcia                Spain        63380     769       2180   60431     ⋯\n",
       "  18 │ Navarra               Spain        43542     973       3905   38664\n",
       "  19 │ Pais Vasco            Spain       114390    3038      16160   95192\n",
       "  20 │ Unknown               Spain            0       0          0       0 \u001b[90m\u001b[0m\n",
       "\u001b[31m                                                               2 columns omitted\u001b[0m"
      ]
     },
     "execution_count": 10,
     "metadata": {},
     "output_type": "execute_result"
    }
   ],
   "source": [
    "select!(df_spain, Not([:FIPS,:Admin2,:Lat,:Long_,:Last_Update,:Combined_Key]))"
   ]
  },
  {
   "cell_type": "code",
   "execution_count": 11,
   "metadata": {},
   "outputs": [
    {
     "data": {
      "text/html": [
       "<table class=\"data-frame\"><thead><tr><th></th><th>province</th><th>country</th><th>Last_Update</th><th>Confirmed</th><th>Deaths</th><th>Recovered</th><th>Active</th><th>Incident_Rate</th></tr><tr><th></th><th>String?</th><th>String</th><th>String</th><th>Int64</th><th>Int64</th><th>Int64</th><th>Int64?</th><th>Float64?</th></tr></thead><tbody><p>1 rows × 9 columns (omitted printing of 1 columns)</p><tr><th>1</th><td>Catalonia</td><td>Spain</td><td>2021-01-11 05:21:50</td><td>386595</td><td>8828</td><td>26203</td><td>351564</td><td>5109.34</td></tr></tbody></table>"
      ],
      "text/latex": [
       "\\begin{tabular}{r|ccccccccc}\n",
       "\t& province & country & Last\\_Update & Confirmed & Deaths & Recovered & Active & Incident\\_Rate & \\\\\n",
       "\t\\hline\n",
       "\t& String? & String & String & Int64 & Int64 & Int64 & Int64? & Float64? & \\\\\n",
       "\t\\hline\n",
       "\t1 & Catalonia & Spain & 2021-01-11 05:21:50 & 386595 & 8828 & 26203 & 351564 & 5109.34 & $\\dots$ \\\\\n",
       "\\end{tabular}\n"
      ],
      "text/plain": [
       "\u001b[1m1×9 DataFrame\u001b[0m\n",
       "\u001b[1m Row \u001b[0m│\u001b[1m province  \u001b[0m\u001b[1m country \u001b[0m\u001b[1m Last_Update         \u001b[0m\u001b[1m Confirmed \u001b[0m\u001b[1m Deaths \u001b[0m\u001b[1m Recovered \u001b[0m\u001b[1m \u001b[0m ⋯\n",
       "\u001b[1m     \u001b[0m│\u001b[90m String?   \u001b[0m\u001b[90m String  \u001b[0m\u001b[90m String              \u001b[0m\u001b[90m Int64     \u001b[0m\u001b[90m Int64  \u001b[0m\u001b[90m Int64     \u001b[0m\u001b[90m \u001b[0m ⋯\n",
       "─────┼──────────────────────────────────────────────────────────────────────────\n",
       "   1 │ Catalonia  Spain    2021-01-11 05:21:50     386595    8828      26203   ⋯\n",
       "\u001b[31m                                                               3 columns omitted\u001b[0m"
      ]
     },
     "execution_count": 11,
     "metadata": {},
     "output_type": "execute_result"
    }
   ],
   "source": [
    "df_catalonia = df[(df.country .== \"Spain\") .& (df.province .== \"Catalonia\"), :]\n",
    "select!(df_catalonia, Not([:FIPS,:Admin2,:Lat,:Long_,:Combined_Key]))"
   ]
  },
  {
   "cell_type": "code",
   "execution_count": 12,
   "metadata": {},
   "outputs": [
    {
     "data": {
      "text/html": [
       "<table class=\"data-frame\"><thead><tr><th></th><th>province</th><th>country</th><th>Last_Update</th><th>Confirmed</th><th>Deaths</th><th>Recovered</th><th>Active</th><th>Incident_Rate</th></tr><tr><th></th><th>String?</th><th>String</th><th>String</th><th>Int64</th><th>Int64</th><th>Int64</th><th>Int64?</th><th>Float64?</th></tr></thead><tbody><p>1 rows × 9 columns (omitted printing of 1 columns)</p><tr><th>1</th><td>Madrid</td><td>Spain</td><td>2021-01-11 05:21:50</td><td>421295</td><td>11971</td><td>40736</td><td>368588</td><td>6343.23</td></tr></tbody></table>"
      ],
      "text/latex": [
       "\\begin{tabular}{r|ccccccccc}\n",
       "\t& province & country & Last\\_Update & Confirmed & Deaths & Recovered & Active & Incident\\_Rate & \\\\\n",
       "\t\\hline\n",
       "\t& String? & String & String & Int64 & Int64 & Int64 & Int64? & Float64? & \\\\\n",
       "\t\\hline\n",
       "\t1 & Madrid & Spain & 2021-01-11 05:21:50 & 421295 & 11971 & 40736 & 368588 & 6343.23 & $\\dots$ \\\\\n",
       "\\end{tabular}\n"
      ],
      "text/plain": [
       "\u001b[1m1×9 DataFrame\u001b[0m\n",
       "\u001b[1m Row \u001b[0m│\u001b[1m province \u001b[0m\u001b[1m country \u001b[0m\u001b[1m Last_Update         \u001b[0m\u001b[1m Confirmed \u001b[0m\u001b[1m Deaths \u001b[0m\u001b[1m Recovered \u001b[0m\u001b[1m A\u001b[0m ⋯\n",
       "\u001b[1m     \u001b[0m│\u001b[90m String?  \u001b[0m\u001b[90m String  \u001b[0m\u001b[90m String              \u001b[0m\u001b[90m Int64     \u001b[0m\u001b[90m Int64  \u001b[0m\u001b[90m Int64     \u001b[0m\u001b[90m I\u001b[0m ⋯\n",
       "─────┼──────────────────────────────────────────────────────────────────────────\n",
       "   1 │ Madrid    Spain    2021-01-11 05:21:50     421295   11971      40736  3 ⋯\n",
       "\u001b[31m                                                               3 columns omitted\u001b[0m"
      ]
     },
     "execution_count": 12,
     "metadata": {},
     "output_type": "execute_result"
    }
   ],
   "source": [
    "df_madrid = df[(df.country .== \"Spain\") .& (df.province .== \"Madrid\"), :]\n",
    "select!(df_madrid, Not([:FIPS,:Admin2,:Lat,:Long_,:Combined_Key]))"
   ]
  },
  {
   "cell_type": "code",
   "execution_count": 13,
   "metadata": {},
   "outputs": [
    {
     "name": "stdout",
     "output_type": "stream",
     "text": [
      "\u001b[1m1×9 DataFrame\u001b[0m\n",
      "\u001b[1m Row \u001b[0m│\u001b[1m province  \u001b[0m\u001b[1m country \u001b[0m\u001b[1m Last_Update         \u001b[0m\u001b[1m Confirmed \u001b[0m\u001b[1m Deaths \u001b[0m\u001b[1m Recovered \u001b[0m\u001b[1m Active \u001b[0m\u001b[1m Incident_Rate \u001b[0m\u001b[1m Case_Fatality_Ratio \u001b[0m\n",
      "\u001b[1m     \u001b[0m│\u001b[90m String?   \u001b[0m\u001b[90m String  \u001b[0m\u001b[90m String              \u001b[0m\u001b[90m Int64     \u001b[0m\u001b[90m Int64  \u001b[0m\u001b[90m Int64     \u001b[0m\u001b[90m Int64? \u001b[0m\u001b[90m Float64?      \u001b[0m\u001b[90m Float64?            \u001b[0m\n",
      "─────┼───────────────────────────────────────────────────────────────────────────────────────────────────────────────────\n",
      "   1 │ Catalonia  Spain    2021-01-11 05:21:50     386595    8828      26203  351564        5109.34              2.28353"
     ]
    }
   ],
   "source": [
    "show(df_catalonia, allcols=true)"
   ]
  },
  {
   "cell_type": "code",
   "execution_count": 14,
   "metadata": {
    "scrolled": true
   },
   "outputs": [
    {
     "name": "stdout",
     "output_type": "stream",
     "text": [
      "\u001b[1m1×9 DataFrame\u001b[0m\n",
      "\u001b[1m Row \u001b[0m│\u001b[1m province \u001b[0m\u001b[1m country \u001b[0m\u001b[1m Last_Update         \u001b[0m\u001b[1m Confirmed \u001b[0m\u001b[1m Deaths \u001b[0m\u001b[1m Recovered \u001b[0m\u001b[1m Active \u001b[0m\u001b[1m Incident_Rate \u001b[0m\u001b[1m Case_Fatality_Ratio \u001b[0m\n",
      "\u001b[1m     \u001b[0m│\u001b[90m String?  \u001b[0m\u001b[90m String  \u001b[0m\u001b[90m String              \u001b[0m\u001b[90m Int64     \u001b[0m\u001b[90m Int64  \u001b[0m\u001b[90m Int64     \u001b[0m\u001b[90m Int64? \u001b[0m\u001b[90m Float64?      \u001b[0m\u001b[90m Float64?            \u001b[0m\n",
      "─────┼──────────────────────────────────────────────────────────────────────────────────────────────────────────────────\n",
      "   1 │ Madrid    Spain    2021-01-11 05:21:50     421295   11971      40736  368588        6343.23              2.84148"
     ]
    }
   ],
   "source": [
    "show(df_madrid, allcols=true)"
   ]
  },
  {
   "cell_type": "code",
   "execution_count": 15,
   "metadata": {},
   "outputs": [
    {
     "name": "stdout",
     "output_type": "stream",
     "text": [
      "\u001b[1m20×8 DataFrame\u001b[0m\n",
      "\u001b[1m Row \u001b[0m│\u001b[1m province             \u001b[0m\u001b[1m country \u001b[0m\u001b[1m Confirmed \u001b[0m\u001b[1m Deaths \u001b[0m\u001b[1m Recovered \u001b[0m\u001b[1m Active \u001b[0m\u001b[1m Incident_Rate \u001b[0m\u001b[1m Case_Fatality_Ratio \u001b[0m\n",
      "\u001b[1m     \u001b[0m│\u001b[90m String?              \u001b[0m\u001b[90m String  \u001b[0m\u001b[90m Int64     \u001b[0m\u001b[90m Int64  \u001b[0m\u001b[90m Int64     \u001b[0m\u001b[90m Int64? \u001b[0m\u001b[90m Float64?      \u001b[0m\u001b[90m Float64?            \u001b[0m\n",
      "─────┼─────────────────────────────────────────────────────────────────────────────────────────────────────────\n",
      "   1 │ Andalusia             Spain       276669    5251      10671  260747        3282.97             1.89794\n",
      "   2 │ Aragon                Spain        82696    2683       3772   76241        6262.07             3.24441\n",
      "   3 │ Asturias              Spain        28196    1376       1063   25757        2758.35             4.88012\n",
      "   4 │ Baleares              Spain        39586     482       1533   37571        3331.54             1.2176\n",
      "   5 │ C. Valenciana         Spain       164156    3163       9970  151023        3299.64             1.92683\n",
      "   6 │ Canarias              Spain        28827     447       1537   26843        1306.22             1.55063\n",
      "   7 │ Cantabria             Spain        18905     402       2287   16216        3250.29             2.12642\n",
      "   8 │ Castilla - La Mancha  Spain       107656    4117       6392   97147        5290.54             3.82422\n",
      "   9 │ Castilla y Leon       Spain       138681    5143       8716  124822        5759.82             3.70851\n",
      "  10 │ Catalonia             Spain       386595    8828      26203  351564        5109.34             2.28353\n",
      "  11 │ Ceuta                 Spain         3225      62        163    3000        3801.77             1.92248\n",
      "  12 │ Extremadura           Spain        43028    1111       2652   39265        4038.58             2.58204\n",
      "  13 │ Galicia               Spain        65479    1420       9204   54855        2424.75             2.16863\n",
      "  14 │ La Rioja              Spain        19326     594       3107   15625        6163.2              3.07358\n",
      "  15 │ Madrid                Spain       421295   11971      40736  368588        6343.23             2.84148\n",
      "  16 │ Melilla               Spain         4728      44        125    4559        5582.78             0.930626\n",
      "  17 │ Murcia                Spain        63380     769       2180   60431        4260.37             1.21332\n",
      "  18 │ Navarra               Spain        43542     973       3905   38664        6699.33             2.23462\n",
      "  19 │ Pais Vasco            Spain       114390    3038      16160   95192        5252.36             2.65583\n",
      "  20 │ Unknown               Spain            0       0          0       0 \u001b[90m    missing    \u001b[0m\u001b[90m      missing        \u001b[0m"
     ]
    }
   ],
   "source": [
    "show(df_spain, allcols=true)"
   ]
  },
  {
   "cell_type": "code",
   "execution_count": 16,
   "metadata": {},
   "outputs": [
    {
     "data": {
      "text/plain": [
       "2021-01-11"
      ]
     },
     "execution_count": 16,
     "metadata": {},
     "output_type": "execute_result"
    }
   ],
   "source": [
    "Date(now())"
   ]
  },
  {
   "cell_type": "code",
   "execution_count": 17,
   "metadata": {},
   "outputs": [
    {
     "data": {
      "text/plain": [
       "11 days"
      ]
     },
     "execution_count": 17,
     "metadata": {},
     "output_type": "execute_result"
    }
   ],
   "source": [
    "Day(now())"
   ]
  },
  {
   "cell_type": "code",
   "execution_count": null,
   "metadata": {},
   "outputs": [],
   "source": []
  }
 ],
 "metadata": {
  "@webio": {
   "lastCommId": null,
   "lastKernelId": null
  },
  "kernelspec": {
   "display_name": "Julia 1.5.2",
   "language": "julia",
   "name": "julia-1.5"
  },
  "language_info": {
   "file_extension": ".jl",
   "mimetype": "application/julia",
   "name": "julia",
   "version": "1.5.2"
  }
 },
 "nbformat": 4,
 "nbformat_minor": 4
}
